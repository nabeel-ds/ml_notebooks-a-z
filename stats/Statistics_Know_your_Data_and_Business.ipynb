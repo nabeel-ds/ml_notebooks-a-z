{
  "nbformat": 4,
  "nbformat_minor": 0,
  "metadata": {
    "colab": {
      "name": "Copy of Statistical Thinking - Know your Data and Business.ipynb",
      "provenance": [],
      "collapsed_sections": []
    },
    "kernelspec": {
      "name": "python3",
      "display_name": "Python 3"
    }
  },
  "cells": [
    {
      "cell_type": "code",
      "metadata": {
        "id": "TnU_4f65k8K0"
      },
      "source": [
        "import warnings\n",
        "warnings.simplefilter(action='ignore', category=FutureWarning)\n",
        "warnings.simplefilter(action='ignore', category=Warning)\n",
        "\n",
        "\n",
        "import pandas as pd\n",
        "import numpy as np\n",
        "\n",
        "import seaborn as sns\n",
        "import matplotlib.pyplot as plt\n",
        "\n",
        "%matplotlib inline"
      ],
      "execution_count": null,
      "outputs": []
    },
    {
      "cell_type": "code",
      "metadata": {
        "id": "4zQRvNF8flve",
        "colab": {
          "base_uri": "https://localhost:8080/"
        },
        "outputId": "c8b98808-6552-4a74-bcd4-4f856e2c60cf"
      },
      "source": [
        "!pip install kaggle"
      ],
      "execution_count": null,
      "outputs": [
        {
          "output_type": "stream",
          "name": "stdout",
          "text": [
            "Requirement already satisfied: kaggle in /usr/local/lib/python3.7/dist-packages (1.5.12)\n",
            "Requirement already satisfied: requests in /usr/local/lib/python3.7/dist-packages (from kaggle) (2.23.0)\n",
            "Requirement already satisfied: python-dateutil in /usr/local/lib/python3.7/dist-packages (from kaggle) (2.8.2)\n",
            "Requirement already satisfied: certifi in /usr/local/lib/python3.7/dist-packages (from kaggle) (2021.5.30)\n",
            "Requirement already satisfied: six>=1.10 in /usr/local/lib/python3.7/dist-packages (from kaggle) (1.15.0)\n",
            "Requirement already satisfied: tqdm in /usr/local/lib/python3.7/dist-packages (from kaggle) (4.62.3)\n",
            "Requirement already satisfied: python-slugify in /usr/local/lib/python3.7/dist-packages (from kaggle) (5.0.2)\n",
            "Requirement already satisfied: urllib3 in /usr/local/lib/python3.7/dist-packages (from kaggle) (1.24.3)\n",
            "Requirement already satisfied: text-unidecode>=1.3 in /usr/local/lib/python3.7/dist-packages (from python-slugify->kaggle) (1.3)\n",
            "Requirement already satisfied: idna<3,>=2.5 in /usr/local/lib/python3.7/dist-packages (from requests->kaggle) (2.10)\n",
            "Requirement already satisfied: chardet<4,>=3.0.2 in /usr/local/lib/python3.7/dist-packages (from requests->kaggle) (3.0.4)\n"
          ]
        }
      ]
    },
    {
      "cell_type": "code",
      "metadata": {
        "colab": {
          "resources": {
            "http://localhost:8080/nbextensions/google.colab/files.js": {
              "data": "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",
              "ok": true,
              "headers": [
                [
                  "content-type",
                  "application/javascript"
                ]
              ],
              "status": 200,
              "status_text": ""
            }
          },
          "base_uri": "https://localhost:8080/",
          "height": 89
        },
        "id": "VfcvQOKFbk94",
        "outputId": "ae6294f3-d8a7-4539-df10-f863a7e41dd2"
      },
      "source": [
        "from google.colab import files\n",
        "files.upload()"
      ],
      "execution_count": null,
      "outputs": [
        {
          "output_type": "display_data",
          "data": {
            "text/html": [
              "\n",
              "     <input type=\"file\" id=\"files-58f5b1b7-0d63-4f5e-8bbf-212ebf05e183\" name=\"files[]\" multiple disabled\n",
              "        style=\"border:none\" />\n",
              "     <output id=\"result-58f5b1b7-0d63-4f5e-8bbf-212ebf05e183\">\n",
              "      Upload widget is only available when the cell has been executed in the\n",
              "      current browser session. Please rerun this cell to enable.\n",
              "      </output>\n",
              "      <script src=\"/nbextensions/google.colab/files.js\"></script> "
            ],
            "text/plain": [
              "<IPython.core.display.HTML object>"
            ]
          },
          "metadata": {}
        },
        {
          "output_type": "stream",
          "name": "stdout",
          "text": [
            "Saving kaggle.json to kaggle.json\n"
          ]
        },
        {
          "output_type": "execute_result",
          "data": {
            "text/plain": [
              "{'kaggle.json': b'{\"username\":\"user\",\"key\":\"12345646\"}'}"
            ]
          },
          "metadata": {},
          "execution_count": 4
        }
      ]
    },
    {
      "cell_type": "code",
      "metadata": {
        "id": "xFVC3LY2k0rf"
      },
      "source": [
        "!mkdir -p ~/.kaggle\n",
        "!cp kaggle.json ~/.kaggle/\n",
        "\n",
        "!chmod 600 ~/.kaggle/kaggle.json"
      ],
      "execution_count": null,
      "outputs": []
    },
    {
      "cell_type": "code",
      "metadata": {
        "id": "pA0bgfiQoMG3",
        "colab": {
          "base_uri": "https://localhost:8080/"
        },
        "outputId": "592bd2e5-1628-409c-8f31-20f3fe9613f2"
      },
      "source": [
        "!kaggle datasets download -d wordsforthewise/lending-club"
      ],
      "execution_count": null,
      "outputs": [
        {
          "output_type": "stream",
          "name": "stdout",
          "text": [
            "Downloading lending-club.zip to /content\n",
            "100% 1.26G/1.26G [00:10<00:00, 113MB/s]\n",
            "100% 1.26G/1.26G [00:10<00:00, 125MB/s]\n"
          ]
        }
      ]
    },
    {
      "cell_type": "code",
      "metadata": {
        "colab": {
          "base_uri": "https://localhost:8080/"
        },
        "id": "vLmIjYyBo2Gf",
        "outputId": "0ee6b45d-09a3-489e-cf58-f62afd5966d4"
      },
      "source": [
        "!kaggle kernels pull faressayah/lending-club-loan-defaulters-prediction"
      ],
      "execution_count": null,
      "outputs": [
        {
          "output_type": "stream",
          "name": "stdout",
          "text": [
            "Warning: Looks like you're using an outdated API Version, please consider updating (server 1.5.12 / client 1.5.4)\n",
            "'latin-1' codec can't encode character u'\\U0001f3e6' in position 378: ordinal not in range(256)\n"
          ]
        }
      ]
    },
    {
      "cell_type": "code",
      "metadata": {
        "colab": {
          "base_uri": "https://localhost:8080/"
        },
        "id": "538UK2L1mcGW",
        "outputId": "5b679cbd-e40a-4169-a72b-b51eba1d53f7"
      },
      "source": [
        "!ls"
      ],
      "execution_count": null,
      "outputs": [
        {
          "output_type": "stream",
          "name": "stdout",
          "text": [
            "kaggle.json  lending-club.zip  sample_data\n"
          ]
        }
      ]
    },
    {
      "cell_type": "code",
      "metadata": {
        "colab": {
          "base_uri": "https://localhost:8080/"
        },
        "id": "eBUJIy0Km8JA",
        "outputId": "edfcf004-caa8-4c8d-b884-78051d3abca6"
      },
      "source": [
        "!unzip lending-club-loan-defaulters-prediction.ipynb"
      ],
      "execution_count": null,
      "outputs": [
        {
          "output_type": "stream",
          "name": "stdout",
          "text": [
            "Archive:  lending-club.zip\n",
            "  inflating: accepted_2007_to_2018Q4.csv.gz  \n",
            "  inflating: accepted_2007_to_2018q4.csv/accepted_2007_to_2018Q4.csv  \n",
            "  inflating: rejected_2007_to_2018Q4.csv.gz  \n",
            "  inflating: rejected_2007_to_2018q4.csv/rejected_2007_to_2018Q4.csv  \n"
          ]
        }
      ]
    },
    {
      "cell_type": "code",
      "metadata": {
        "id": "OVdiNt0IflmG"
      },
      "source": [
        "loan_df = pd.read_csv('/content/accepted_2007_to_2018q4.csv/accepted_2007_to_2018Q4.csv')"
      ],
      "execution_count": null,
      "outputs": []
    },
    {
      "cell_type": "code",
      "metadata": {
        "id": "H3lRWZdo02kX",
        "colab": {
          "base_uri": "https://localhost:8080/"
        },
        "outputId": "d33dedc5-c6e6-4cdc-cd52-7d56312c7fa8"
      },
      "source": [
        "loan_df.shape[0]"
      ],
      "execution_count": null,
      "outputs": [
        {
          "output_type": "execute_result",
          "data": {
            "text/plain": [
              "2260701"
            ]
          },
          "metadata": {},
          "execution_count": 10
        }
      ]
    },
    {
      "cell_type": "code",
      "metadata": {
        "id": "W1n88zNxhTCM",
        "colab": {
          "base_uri": "https://localhost:8080/",
          "height": 355
        },
        "outputId": "264518bf-5a68-4465-e1bc-6a8a30cb827f"
      },
      "source": [
        "loan_df.head()"
      ],
      "execution_count": null,
      "outputs": [
        {
          "output_type": "execute_result",
          "data": {
            "text/html": [
              "<div>\n",
              "<style scoped>\n",
              "    .dataframe tbody tr th:only-of-type {\n",
              "        vertical-align: middle;\n",
              "    }\n",
              "\n",
              "    .dataframe tbody tr th {\n",
              "        vertical-align: top;\n",
              "    }\n",
              "\n",
              "    .dataframe thead th {\n",
              "        text-align: right;\n",
              "    }\n",
              "</style>\n",
              "<table border=\"1\" class=\"dataframe\">\n",
              "  <thead>\n",
              "    <tr style=\"text-align: right;\">\n",
              "      <th></th>\n",
              "      <th>id</th>\n",
              "      <th>member_id</th>\n",
              "      <th>loan_amnt</th>\n",
              "      <th>funded_amnt</th>\n",
              "      <th>funded_amnt_inv</th>\n",
              "      <th>term</th>\n",
              "      <th>int_rate</th>\n",
              "      <th>installment</th>\n",
              "      <th>grade</th>\n",
              "      <th>sub_grade</th>\n",
              "      <th>emp_title</th>\n",
              "      <th>emp_length</th>\n",
              "      <th>home_ownership</th>\n",
              "      <th>annual_inc</th>\n",
              "      <th>verification_status</th>\n",
              "      <th>issue_d</th>\n",
              "      <th>loan_status</th>\n",
              "      <th>pymnt_plan</th>\n",
              "      <th>url</th>\n",
              "      <th>desc</th>\n",
              "      <th>purpose</th>\n",
              "      <th>title</th>\n",
              "      <th>zip_code</th>\n",
              "      <th>addr_state</th>\n",
              "      <th>dti</th>\n",
              "      <th>delinq_2yrs</th>\n",
              "      <th>earliest_cr_line</th>\n",
              "      <th>fico_range_low</th>\n",
              "      <th>fico_range_high</th>\n",
              "      <th>inq_last_6mths</th>\n",
              "      <th>mths_since_last_delinq</th>\n",
              "      <th>mths_since_last_record</th>\n",
              "      <th>open_acc</th>\n",
              "      <th>pub_rec</th>\n",
              "      <th>revol_bal</th>\n",
              "      <th>revol_util</th>\n",
              "      <th>total_acc</th>\n",
              "      <th>initial_list_status</th>\n",
              "      <th>out_prncp</th>\n",
              "      <th>out_prncp_inv</th>\n",
              "      <th>...</th>\n",
              "      <th>tot_hi_cred_lim</th>\n",
              "      <th>total_bal_ex_mort</th>\n",
              "      <th>total_bc_limit</th>\n",
              "      <th>total_il_high_credit_limit</th>\n",
              "      <th>revol_bal_joint</th>\n",
              "      <th>sec_app_fico_range_low</th>\n",
              "      <th>sec_app_fico_range_high</th>\n",
              "      <th>sec_app_earliest_cr_line</th>\n",
              "      <th>sec_app_inq_last_6mths</th>\n",
              "      <th>sec_app_mort_acc</th>\n",
              "      <th>sec_app_open_acc</th>\n",
              "      <th>sec_app_revol_util</th>\n",
              "      <th>sec_app_open_act_il</th>\n",
              "      <th>sec_app_num_rev_accts</th>\n",
              "      <th>sec_app_chargeoff_within_12_mths</th>\n",
              "      <th>sec_app_collections_12_mths_ex_med</th>\n",
              "      <th>sec_app_mths_since_last_major_derog</th>\n",
              "      <th>hardship_flag</th>\n",
              "      <th>hardship_type</th>\n",
              "      <th>hardship_reason</th>\n",
              "      <th>hardship_status</th>\n",
              "      <th>deferral_term</th>\n",
              "      <th>hardship_amount</th>\n",
              "      <th>hardship_start_date</th>\n",
              "      <th>hardship_end_date</th>\n",
              "      <th>payment_plan_start_date</th>\n",
              "      <th>hardship_length</th>\n",
              "      <th>hardship_dpd</th>\n",
              "      <th>hardship_loan_status</th>\n",
              "      <th>orig_projected_additional_accrued_interest</th>\n",
              "      <th>hardship_payoff_balance_amount</th>\n",
              "      <th>hardship_last_payment_amount</th>\n",
              "      <th>disbursement_method</th>\n",
              "      <th>debt_settlement_flag</th>\n",
              "      <th>debt_settlement_flag_date</th>\n",
              "      <th>settlement_status</th>\n",
              "      <th>settlement_date</th>\n",
              "      <th>settlement_amount</th>\n",
              "      <th>settlement_percentage</th>\n",
              "      <th>settlement_term</th>\n",
              "    </tr>\n",
              "  </thead>\n",
              "  <tbody>\n",
              "    <tr>\n",
              "      <th>0</th>\n",
              "      <td>68407277</td>\n",
              "      <td>NaN</td>\n",
              "      <td>3600.0</td>\n",
              "      <td>3600.0</td>\n",
              "      <td>3600.0</td>\n",
              "      <td>36 months</td>\n",
              "      <td>13.99</td>\n",
              "      <td>123.03</td>\n",
              "      <td>C</td>\n",
              "      <td>C4</td>\n",
              "      <td>leadman</td>\n",
              "      <td>10+ years</td>\n",
              "      <td>MORTGAGE</td>\n",
              "      <td>55000.0</td>\n",
              "      <td>Not Verified</td>\n",
              "      <td>Dec-2015</td>\n",
              "      <td>Fully Paid</td>\n",
              "      <td>n</td>\n",
              "      <td>https://lendingclub.com/browse/loanDetail.acti...</td>\n",
              "      <td>NaN</td>\n",
              "      <td>debt_consolidation</td>\n",
              "      <td>Debt consolidation</td>\n",
              "      <td>190xx</td>\n",
              "      <td>PA</td>\n",
              "      <td>5.91</td>\n",
              "      <td>0.0</td>\n",
              "      <td>Aug-2003</td>\n",
              "      <td>675.0</td>\n",
              "      <td>679.0</td>\n",
              "      <td>1.0</td>\n",
              "      <td>30.0</td>\n",
              "      <td>NaN</td>\n",
              "      <td>7.0</td>\n",
              "      <td>0.0</td>\n",
              "      <td>2765.0</td>\n",
              "      <td>29.7</td>\n",
              "      <td>13.0</td>\n",
              "      <td>w</td>\n",
              "      <td>0.00</td>\n",
              "      <td>0.00</td>\n",
              "      <td>...</td>\n",
              "      <td>178050.0</td>\n",
              "      <td>7746.0</td>\n",
              "      <td>2400.0</td>\n",
              "      <td>13734.0</td>\n",
              "      <td>NaN</td>\n",
              "      <td>NaN</td>\n",
              "      <td>NaN</td>\n",
              "      <td>NaN</td>\n",
              "      <td>NaN</td>\n",
              "      <td>NaN</td>\n",
              "      <td>NaN</td>\n",
              "      <td>NaN</td>\n",
              "      <td>NaN</td>\n",
              "      <td>NaN</td>\n",
              "      <td>NaN</td>\n",
              "      <td>NaN</td>\n",
              "      <td>NaN</td>\n",
              "      <td>N</td>\n",
              "      <td>NaN</td>\n",
              "      <td>NaN</td>\n",
              "      <td>NaN</td>\n",
              "      <td>NaN</td>\n",
              "      <td>NaN</td>\n",
              "      <td>NaN</td>\n",
              "      <td>NaN</td>\n",
              "      <td>NaN</td>\n",
              "      <td>NaN</td>\n",
              "      <td>NaN</td>\n",
              "      <td>NaN</td>\n",
              "      <td>NaN</td>\n",
              "      <td>NaN</td>\n",
              "      <td>NaN</td>\n",
              "      <td>Cash</td>\n",
              "      <td>N</td>\n",
              "      <td>NaN</td>\n",
              "      <td>NaN</td>\n",
              "      <td>NaN</td>\n",
              "      <td>NaN</td>\n",
              "      <td>NaN</td>\n",
              "      <td>NaN</td>\n",
              "    </tr>\n",
              "    <tr>\n",
              "      <th>1</th>\n",
              "      <td>68355089</td>\n",
              "      <td>NaN</td>\n",
              "      <td>24700.0</td>\n",
              "      <td>24700.0</td>\n",
              "      <td>24700.0</td>\n",
              "      <td>36 months</td>\n",
              "      <td>11.99</td>\n",
              "      <td>820.28</td>\n",
              "      <td>C</td>\n",
              "      <td>C1</td>\n",
              "      <td>Engineer</td>\n",
              "      <td>10+ years</td>\n",
              "      <td>MORTGAGE</td>\n",
              "      <td>65000.0</td>\n",
              "      <td>Not Verified</td>\n",
              "      <td>Dec-2015</td>\n",
              "      <td>Fully Paid</td>\n",
              "      <td>n</td>\n",
              "      <td>https://lendingclub.com/browse/loanDetail.acti...</td>\n",
              "      <td>NaN</td>\n",
              "      <td>small_business</td>\n",
              "      <td>Business</td>\n",
              "      <td>577xx</td>\n",
              "      <td>SD</td>\n",
              "      <td>16.06</td>\n",
              "      <td>1.0</td>\n",
              "      <td>Dec-1999</td>\n",
              "      <td>715.0</td>\n",
              "      <td>719.0</td>\n",
              "      <td>4.0</td>\n",
              "      <td>6.0</td>\n",
              "      <td>NaN</td>\n",
              "      <td>22.0</td>\n",
              "      <td>0.0</td>\n",
              "      <td>21470.0</td>\n",
              "      <td>19.2</td>\n",
              "      <td>38.0</td>\n",
              "      <td>w</td>\n",
              "      <td>0.00</td>\n",
              "      <td>0.00</td>\n",
              "      <td>...</td>\n",
              "      <td>314017.0</td>\n",
              "      <td>39475.0</td>\n",
              "      <td>79300.0</td>\n",
              "      <td>24667.0</td>\n",
              "      <td>NaN</td>\n",
              "      <td>NaN</td>\n",
              "      <td>NaN</td>\n",
              "      <td>NaN</td>\n",
              "      <td>NaN</td>\n",
              "      <td>NaN</td>\n",
              "      <td>NaN</td>\n",
              "      <td>NaN</td>\n",
              "      <td>NaN</td>\n",
              "      <td>NaN</td>\n",
              "      <td>NaN</td>\n",
              "      <td>NaN</td>\n",
              "      <td>NaN</td>\n",
              "      <td>N</td>\n",
              "      <td>NaN</td>\n",
              "      <td>NaN</td>\n",
              "      <td>NaN</td>\n",
              "      <td>NaN</td>\n",
              "      <td>NaN</td>\n",
              "      <td>NaN</td>\n",
              "      <td>NaN</td>\n",
              "      <td>NaN</td>\n",
              "      <td>NaN</td>\n",
              "      <td>NaN</td>\n",
              "      <td>NaN</td>\n",
              "      <td>NaN</td>\n",
              "      <td>NaN</td>\n",
              "      <td>NaN</td>\n",
              "      <td>Cash</td>\n",
              "      <td>N</td>\n",
              "      <td>NaN</td>\n",
              "      <td>NaN</td>\n",
              "      <td>NaN</td>\n",
              "      <td>NaN</td>\n",
              "      <td>NaN</td>\n",
              "      <td>NaN</td>\n",
              "    </tr>\n",
              "    <tr>\n",
              "      <th>2</th>\n",
              "      <td>68341763</td>\n",
              "      <td>NaN</td>\n",
              "      <td>20000.0</td>\n",
              "      <td>20000.0</td>\n",
              "      <td>20000.0</td>\n",
              "      <td>60 months</td>\n",
              "      <td>10.78</td>\n",
              "      <td>432.66</td>\n",
              "      <td>B</td>\n",
              "      <td>B4</td>\n",
              "      <td>truck driver</td>\n",
              "      <td>10+ years</td>\n",
              "      <td>MORTGAGE</td>\n",
              "      <td>63000.0</td>\n",
              "      <td>Not Verified</td>\n",
              "      <td>Dec-2015</td>\n",
              "      <td>Fully Paid</td>\n",
              "      <td>n</td>\n",
              "      <td>https://lendingclub.com/browse/loanDetail.acti...</td>\n",
              "      <td>NaN</td>\n",
              "      <td>home_improvement</td>\n",
              "      <td>NaN</td>\n",
              "      <td>605xx</td>\n",
              "      <td>IL</td>\n",
              "      <td>10.78</td>\n",
              "      <td>0.0</td>\n",
              "      <td>Aug-2000</td>\n",
              "      <td>695.0</td>\n",
              "      <td>699.0</td>\n",
              "      <td>0.0</td>\n",
              "      <td>NaN</td>\n",
              "      <td>NaN</td>\n",
              "      <td>6.0</td>\n",
              "      <td>0.0</td>\n",
              "      <td>7869.0</td>\n",
              "      <td>56.2</td>\n",
              "      <td>18.0</td>\n",
              "      <td>w</td>\n",
              "      <td>0.00</td>\n",
              "      <td>0.00</td>\n",
              "      <td>...</td>\n",
              "      <td>218418.0</td>\n",
              "      <td>18696.0</td>\n",
              "      <td>6200.0</td>\n",
              "      <td>14877.0</td>\n",
              "      <td>NaN</td>\n",
              "      <td>NaN</td>\n",
              "      <td>NaN</td>\n",
              "      <td>NaN</td>\n",
              "      <td>NaN</td>\n",
              "      <td>NaN</td>\n",
              "      <td>NaN</td>\n",
              "      <td>NaN</td>\n",
              "      <td>NaN</td>\n",
              "      <td>NaN</td>\n",
              "      <td>NaN</td>\n",
              "      <td>NaN</td>\n",
              "      <td>NaN</td>\n",
              "      <td>N</td>\n",
              "      <td>NaN</td>\n",
              "      <td>NaN</td>\n",
              "      <td>NaN</td>\n",
              "      <td>NaN</td>\n",
              "      <td>NaN</td>\n",
              "      <td>NaN</td>\n",
              "      <td>NaN</td>\n",
              "      <td>NaN</td>\n",
              "      <td>NaN</td>\n",
              "      <td>NaN</td>\n",
              "      <td>NaN</td>\n",
              "      <td>NaN</td>\n",
              "      <td>NaN</td>\n",
              "      <td>NaN</td>\n",
              "      <td>Cash</td>\n",
              "      <td>N</td>\n",
              "      <td>NaN</td>\n",
              "      <td>NaN</td>\n",
              "      <td>NaN</td>\n",
              "      <td>NaN</td>\n",
              "      <td>NaN</td>\n",
              "      <td>NaN</td>\n",
              "    </tr>\n",
              "    <tr>\n",
              "      <th>3</th>\n",
              "      <td>66310712</td>\n",
              "      <td>NaN</td>\n",
              "      <td>35000.0</td>\n",
              "      <td>35000.0</td>\n",
              "      <td>35000.0</td>\n",
              "      <td>60 months</td>\n",
              "      <td>14.85</td>\n",
              "      <td>829.90</td>\n",
              "      <td>C</td>\n",
              "      <td>C5</td>\n",
              "      <td>Information Systems Officer</td>\n",
              "      <td>10+ years</td>\n",
              "      <td>MORTGAGE</td>\n",
              "      <td>110000.0</td>\n",
              "      <td>Source Verified</td>\n",
              "      <td>Dec-2015</td>\n",
              "      <td>Current</td>\n",
              "      <td>n</td>\n",
              "      <td>https://lendingclub.com/browse/loanDetail.acti...</td>\n",
              "      <td>NaN</td>\n",
              "      <td>debt_consolidation</td>\n",
              "      <td>Debt consolidation</td>\n",
              "      <td>076xx</td>\n",
              "      <td>NJ</td>\n",
              "      <td>17.06</td>\n",
              "      <td>0.0</td>\n",
              "      <td>Sep-2008</td>\n",
              "      <td>785.0</td>\n",
              "      <td>789.0</td>\n",
              "      <td>0.0</td>\n",
              "      <td>NaN</td>\n",
              "      <td>NaN</td>\n",
              "      <td>13.0</td>\n",
              "      <td>0.0</td>\n",
              "      <td>7802.0</td>\n",
              "      <td>11.6</td>\n",
              "      <td>17.0</td>\n",
              "      <td>w</td>\n",
              "      <td>15897.65</td>\n",
              "      <td>15897.65</td>\n",
              "      <td>...</td>\n",
              "      <td>381215.0</td>\n",
              "      <td>52226.0</td>\n",
              "      <td>62500.0</td>\n",
              "      <td>18000.0</td>\n",
              "      <td>NaN</td>\n",
              "      <td>NaN</td>\n",
              "      <td>NaN</td>\n",
              "      <td>NaN</td>\n",
              "      <td>NaN</td>\n",
              "      <td>NaN</td>\n",
              "      <td>NaN</td>\n",
              "      <td>NaN</td>\n",
              "      <td>NaN</td>\n",
              "      <td>NaN</td>\n",
              "      <td>NaN</td>\n",
              "      <td>NaN</td>\n",
              "      <td>NaN</td>\n",
              "      <td>N</td>\n",
              "      <td>NaN</td>\n",
              "      <td>NaN</td>\n",
              "      <td>NaN</td>\n",
              "      <td>NaN</td>\n",
              "      <td>NaN</td>\n",
              "      <td>NaN</td>\n",
              "      <td>NaN</td>\n",
              "      <td>NaN</td>\n",
              "      <td>NaN</td>\n",
              "      <td>NaN</td>\n",
              "      <td>NaN</td>\n",
              "      <td>NaN</td>\n",
              "      <td>NaN</td>\n",
              "      <td>NaN</td>\n",
              "      <td>Cash</td>\n",
              "      <td>N</td>\n",
              "      <td>NaN</td>\n",
              "      <td>NaN</td>\n",
              "      <td>NaN</td>\n",
              "      <td>NaN</td>\n",
              "      <td>NaN</td>\n",
              "      <td>NaN</td>\n",
              "    </tr>\n",
              "    <tr>\n",
              "      <th>4</th>\n",
              "      <td>68476807</td>\n",
              "      <td>NaN</td>\n",
              "      <td>10400.0</td>\n",
              "      <td>10400.0</td>\n",
              "      <td>10400.0</td>\n",
              "      <td>60 months</td>\n",
              "      <td>22.45</td>\n",
              "      <td>289.91</td>\n",
              "      <td>F</td>\n",
              "      <td>F1</td>\n",
              "      <td>Contract Specialist</td>\n",
              "      <td>3 years</td>\n",
              "      <td>MORTGAGE</td>\n",
              "      <td>104433.0</td>\n",
              "      <td>Source Verified</td>\n",
              "      <td>Dec-2015</td>\n",
              "      <td>Fully Paid</td>\n",
              "      <td>n</td>\n",
              "      <td>https://lendingclub.com/browse/loanDetail.acti...</td>\n",
              "      <td>NaN</td>\n",
              "      <td>major_purchase</td>\n",
              "      <td>Major purchase</td>\n",
              "      <td>174xx</td>\n",
              "      <td>PA</td>\n",
              "      <td>25.37</td>\n",
              "      <td>1.0</td>\n",
              "      <td>Jun-1998</td>\n",
              "      <td>695.0</td>\n",
              "      <td>699.0</td>\n",
              "      <td>3.0</td>\n",
              "      <td>12.0</td>\n",
              "      <td>NaN</td>\n",
              "      <td>12.0</td>\n",
              "      <td>0.0</td>\n",
              "      <td>21929.0</td>\n",
              "      <td>64.5</td>\n",
              "      <td>35.0</td>\n",
              "      <td>w</td>\n",
              "      <td>0.00</td>\n",
              "      <td>0.00</td>\n",
              "      <td>...</td>\n",
              "      <td>439570.0</td>\n",
              "      <td>95768.0</td>\n",
              "      <td>20300.0</td>\n",
              "      <td>88097.0</td>\n",
              "      <td>NaN</td>\n",
              "      <td>NaN</td>\n",
              "      <td>NaN</td>\n",
              "      <td>NaN</td>\n",
              "      <td>NaN</td>\n",
              "      <td>NaN</td>\n",
              "      <td>NaN</td>\n",
              "      <td>NaN</td>\n",
              "      <td>NaN</td>\n",
              "      <td>NaN</td>\n",
              "      <td>NaN</td>\n",
              "      <td>NaN</td>\n",
              "      <td>NaN</td>\n",
              "      <td>N</td>\n",
              "      <td>NaN</td>\n",
              "      <td>NaN</td>\n",
              "      <td>NaN</td>\n",
              "      <td>NaN</td>\n",
              "      <td>NaN</td>\n",
              "      <td>NaN</td>\n",
              "      <td>NaN</td>\n",
              "      <td>NaN</td>\n",
              "      <td>NaN</td>\n",
              "      <td>NaN</td>\n",
              "      <td>NaN</td>\n",
              "      <td>NaN</td>\n",
              "      <td>NaN</td>\n",
              "      <td>NaN</td>\n",
              "      <td>Cash</td>\n",
              "      <td>N</td>\n",
              "      <td>NaN</td>\n",
              "      <td>NaN</td>\n",
              "      <td>NaN</td>\n",
              "      <td>NaN</td>\n",
              "      <td>NaN</td>\n",
              "      <td>NaN</td>\n",
              "    </tr>\n",
              "  </tbody>\n",
              "</table>\n",
              "<p>5 rows × 151 columns</p>\n",
              "</div>"
            ],
            "text/plain": [
              "         id  member_id  ...  settlement_percentage  settlement_term\n",
              "0  68407277        NaN  ...                    NaN              NaN\n",
              "1  68355089        NaN  ...                    NaN              NaN\n",
              "2  68341763        NaN  ...                    NaN              NaN\n",
              "3  66310712        NaN  ...                    NaN              NaN\n",
              "4  68476807        NaN  ...                    NaN              NaN\n",
              "\n",
              "[5 rows x 151 columns]"
            ]
          },
          "metadata": {},
          "execution_count": 11
        }
      ]
    },
    {
      "cell_type": "code",
      "metadata": {
        "colab": {
          "base_uri": "https://localhost:8080/"
        },
        "id": "-iLRoNXDqVlI",
        "outputId": "976335d0-658e-4098-f374-d2152c1300e4"
      },
      "source": [
        "loan_df.columns"
      ],
      "execution_count": null,
      "outputs": [
        {
          "output_type": "execute_result",
          "data": {
            "text/plain": [
              "Index(['id', 'member_id', 'loan_amnt', 'funded_amnt', 'funded_amnt_inv',\n",
              "       'term', 'int_rate', 'installment', 'grade', 'sub_grade',\n",
              "       ...\n",
              "       'hardship_payoff_balance_amount', 'hardship_last_payment_amount',\n",
              "       'disbursement_method', 'debt_settlement_flag',\n",
              "       'debt_settlement_flag_date', 'settlement_status', 'settlement_date',\n",
              "       'settlement_amount', 'settlement_percentage', 'settlement_term'],\n",
              "      dtype='object', length=151)"
            ]
          },
          "metadata": {},
          "execution_count": 13
        }
      ]
    },
    {
      "cell_type": "code",
      "metadata": {
        "id": "ObAweejC07V2",
        "colab": {
          "base_uri": "https://localhost:8080/",
          "height": 299
        },
        "outputId": "4184dcbd-7d6f-4289-fdd5-e84f87e8eed6"
      },
      "source": [
        "sns.regplot(x='fico_range_low',y='int_rate',data=loan_df[:10000]) "
      ],
      "execution_count": null,
      "outputs": [
        {
          "output_type": "execute_result",
          "data": {
            "text/plain": [
              "<matplotlib.axes._subplots.AxesSubplot at 0x7fde7595ca10>"
            ]
          },
          "metadata": {},
          "execution_count": 14
        },
        {
          "output_type": "display_data",
          "data": {
            "image/png": "[encoded data removed]",
            "text/plain": [
              "<Figure size 432x288 with 1 Axes>"
            ]
          },
          "metadata": {
            "needs_background": "light"
          }
        }
      ]
    },
    {
      "cell_type": "code",
      "metadata": {
        "id": "ObrcvuZ911As",
        "colab": {
          "base_uri": "https://localhost:8080/"
        },
        "outputId": "f234511d-d65c-4f86-dc2c-2ce67493cc77"
      },
      "source": [
        "loan_df['loan_status'].value_counts()"
      ],
      "execution_count": null,
      "outputs": [
        {
          "output_type": "execute_result",
          "data": {
            "text/plain": [
              "Fully Paid                                             1076751\n",
              "Current                                                 878317\n",
              "Charged Off                                             268559\n",
              "Late (31-120 days)                                       21467\n",
              "In Grace Period                                           8436\n",
              "Late (16-30 days)                                         4349\n",
              "Does not meet the credit policy. Status:Fully Paid        1988\n",
              "Does not meet the credit policy. Status:Charged Off        761\n",
              "Default                                                     40\n",
              "Name: loan_status, dtype: int64"
            ]
          },
          "metadata": {},
          "execution_count": 15
        }
      ]
    },
    {
      "cell_type": "code",
      "metadata": {
        "id": "ECZdnV2wohEV"
      },
      "source": [
        "loan_int_df=loan_df[loan_df['loan_status']!='Current']\n",
        "loan_int_df=loan_int_df[loan_df['loan_status']!='Late (31-120 days)']\n",
        "loan_int_df=loan_int_df[loan_df['loan_status']!='In Grace Period']\n",
        "loan_int_df=loan_int_df[loan_df['loan_status']!='Late (16-30 days)']"
      ],
      "execution_count": null,
      "outputs": []
    },
    {
      "cell_type": "code",
      "metadata": {
        "id": "nI4nrtEAohA4",
        "colab": {
          "base_uri": "https://localhost:8080/",
          "height": 90
        },
        "outputId": "24813ffe-9c84-407c-dcaa-5660f28517b0"
      },
      "source": [
        "loan_int_df['loan_status'].value_counts()"
      ],
      "execution_count": null,
      "outputs": [
        {
          "output_type": "execute_result",
          "data": {
            "text/plain": [
              "Fully Paid     482595\n",
              "Charged Off    129187\n",
              "Default            21\n",
              "Name: loan_status, dtype: int64"
            ]
          },
          "metadata": {
            "tags": []
          },
          "execution_count": 12
        }
      ]
    },
    {
      "cell_type": "code",
      "metadata": {
        "id": "v3vqmLHkog9s",
        "colab": {
          "base_uri": "https://localhost:8080/",
          "height": 235
        },
        "outputId": "fdc97e90-042a-4f3e-84e9-7407b2e67799"
      },
      "source": [
        "loan_int_df.groupby('loan_status').agg({'last_fico_range_high':'mean'})"
      ],
      "execution_count": null,
      "outputs": [
        {
          "output_type": "execute_result",
          "data": {
            "text/html": [
              "<div>\n",
              "<style scoped>\n",
              "    .dataframe tbody tr th:only-of-type {\n",
              "        vertical-align: middle;\n",
              "    }\n",
              "\n",
              "    .dataframe tbody tr th {\n",
              "        vertical-align: top;\n",
              "    }\n",
              "\n",
              "    .dataframe thead th {\n",
              "        text-align: right;\n",
              "    }\n",
              "</style>\n",
              "<table border=\"1\" class=\"dataframe\">\n",
              "  <thead>\n",
              "    <tr style=\"text-align: right;\">\n",
              "      <th></th>\n",
              "      <th>last_fico_range_high</th>\n",
              "    </tr>\n",
              "    <tr>\n",
              "      <th>loan_status</th>\n",
              "      <th></th>\n",
              "    </tr>\n",
              "  </thead>\n",
              "  <tbody>\n",
              "    <tr>\n",
              "      <th>Charged Off</th>\n",
              "      <td>568.443236</td>\n",
              "    </tr>\n",
              "    <tr>\n",
              "      <th>Default</th>\n",
              "      <td>588.875000</td>\n",
              "    </tr>\n",
              "    <tr>\n",
              "      <th>Does not meet the credit policy. Status:Charged Off</th>\n",
              "      <td>613.237845</td>\n",
              "    </tr>\n",
              "    <tr>\n",
              "      <th>Does not meet the credit policy. Status:Fully Paid</th>\n",
              "      <td>677.829477</td>\n",
              "    </tr>\n",
              "    <tr>\n",
              "      <th>Fully Paid</th>\n",
              "      <td>704.433473</td>\n",
              "    </tr>\n",
              "  </tbody>\n",
              "</table>\n",
              "</div>"
            ],
            "text/plain": [
              "                                                    last_fico_range_high\n",
              "loan_status                                                             \n",
              "Charged Off                                                   568.443236\n",
              "Default                                                       588.875000\n",
              "Does not meet the credit policy. Status:Charged...            613.237845\n",
              "Does not meet the credit policy. Status:Fully Paid            677.829477\n",
              "Fully Paid                                                    704.433473"
            ]
          },
          "metadata": {},
          "execution_count": 17
        }
      ]
    },
    {
      "cell_type": "code",
      "metadata": {
        "id": "04WtWsT7sXM6"
      },
      "source": [
        "loan_int_df['loan_status']=loan_int_df['loan_status'].replace('Charged Off','Default')\n",
        "loan_int_df['loan_status']=loan_int_df['loan_status'].replace('Fully Paid','Good')"
      ],
      "execution_count": null,
      "outputs": []
    },
    {
      "cell_type": "code",
      "metadata": {
        "id": "nuXTlwJiog6o",
        "colab": {
          "base_uri": "https://localhost:8080/"
        },
        "outputId": "d3ad5906-80ea-4f30-ea02-35b50b7d6f1a"
      },
      "source": [
        "loan_int_df['loan_status'].value_counts()"
      ],
      "execution_count": null,
      "outputs": [
        {
          "output_type": "execute_result",
          "data": {
            "text/plain": [
              "Good                                                   1076751\n",
              "Default                                                 268599\n",
              "Does not meet the credit policy. Status:Fully Paid        1988\n",
              "Does not meet the credit policy. Status:Charged Off        761\n",
              "Name: loan_status, dtype: int64"
            ]
          },
          "metadata": {},
          "execution_count": 19
        }
      ]
    },
    {
      "cell_type": "code",
      "metadata": {
        "id": "_rnGuy1bog33",
        "colab": {
          "base_uri": "https://localhost:8080/"
        },
        "outputId": "8e45395e-1f7c-473e-8507-4a52781cf939"
      },
      "source": [
        "loan_int_df.info()"
      ],
      "execution_count": null,
      "outputs": [
        {
          "output_type": "stream",
          "name": "stdout",
          "text": [
            "<class 'pandas.core.frame.DataFrame'>\n",
            "Int64Index: 1348132 entries, 0 to 2260700\n",
            "Columns: 151 entries, id to settlement_term\n",
            "dtypes: float64(113), object(38)\n",
            "memory usage: 1.5+ GB\n"
          ]
        }
      ]
    },
    {
      "cell_type": "code",
      "metadata": {
        "id": "v1OiBkQS4izq",
        "colab": {
          "base_uri": "https://localhost:8080/"
        },
        "outputId": "ce2dc2c4-0c51-4e19-9167-9a529e46e1b8"
      },
      "source": [
        "loan_int_df['fico_range_low'].min()"
      ],
      "execution_count": null,
      "outputs": [
        {
          "output_type": "execute_result",
          "data": {
            "text/plain": [
              "610.0"
            ]
          },
          "metadata": {},
          "execution_count": 21
        }
      ]
    },
    {
      "cell_type": "code",
      "metadata": {
        "id": "Gzdp0BsrvMzb",
        "colab": {
          "base_uri": "https://localhost:8080/"
        },
        "outputId": "dc1f1684-eb6d-462f-861c-d117314e81c5"
      },
      "source": [
        "loan_int_df['fico_range_low'].max()"
      ],
      "execution_count": null,
      "outputs": [
        {
          "output_type": "execute_result",
          "data": {
            "text/plain": [
              "845.0"
            ]
          },
          "metadata": {},
          "execution_count": 22
        }
      ]
    },
    {
      "cell_type": "code",
      "metadata": {
        "id": "Fjl3a2aL5o7m",
        "colab": {
          "base_uri": "https://localhost:8080/"
        },
        "outputId": "a2ce35fb-2fc1-4063-fec1-971350c39013"
      },
      "source": [
        "loan_int_df['last_fico_range_low'].min()"
      ],
      "execution_count": null,
      "outputs": [
        {
          "output_type": "execute_result",
          "data": {
            "text/plain": [
              "0.0"
            ]
          },
          "metadata": {},
          "execution_count": 23
        }
      ]
    },
    {
      "cell_type": "code",
      "metadata": {
        "id": "vLUieVdnogvO"
      },
      "source": [
        "loan_int_df['last_fico_range_low']=loan_int_df.apply(lambda x: x['fico_range_low'] if x['last_fico_range_low']==0.0 else x['last_fico_range_low'],axis=1)"
      ],
      "execution_count": null,
      "outputs": []
    },
    {
      "cell_type": "code",
      "metadata": {
        "id": "Uw4iKQz98Bz4"
      },
      "source": [
        "loan_int_df['last_fico_range_low'].min()"
      ],
      "execution_count": null,
      "outputs": []
    },
    {
      "cell_type": "code",
      "metadata": {
        "id": "qLWO-Zgx8Bb7"
      },
      "source": [
        "loan_int_df['last_fico_range_low'].max()"
      ],
      "execution_count": null,
      "outputs": []
    },
    {
      "cell_type": "code",
      "metadata": {
        "id": "f4LC3rP5wmOD"
      },
      "source": [
        "import math\n",
        "loan_int_df['fico_score']=loan_int_df['last_fico_range_low'].apply(lambda x: int(math.ceil(x/10))*10)"
      ],
      "execution_count": null,
      "outputs": []
    },
    {
      "cell_type": "code",
      "metadata": {
        "id": "aE68O3RP8jpk"
      },
      "source": [
        "loan_int_df.head()"
      ],
      "execution_count": null,
      "outputs": []
    },
    {
      "cell_type": "code",
      "metadata": {
        "id": "dzChx20gTfQe"
      },
      "source": [
        "loan_int_df.isnull().sum()"
      ],
      "execution_count": null,
      "outputs": []
    },
    {
      "cell_type": "code",
      "metadata": {
        "id": "N7MFPR5B9jTg"
      },
      "source": [
        "loan_int_df[loan_df['dti'].isnull()]"
      ],
      "execution_count": null,
      "outputs": []
    },
    {
      "cell_type": "code",
      "metadata": {
        "id": "FLwOLAEGRUmI"
      },
      "source": [
        "loan_int_df['dti_final']=loan_int_df.apply(lambda x: x['dti_joint'] if pd.isnull(x['dti']) else x['dti'], axis=1)\n",
        "loan_int_df['annual_inc_final']=loan_int_df.apply(lambda x: x['annual_inc_joint'] if x['annual_inc']==0.0 else x['annual_inc'], axis=1)"
      ],
      "execution_count": null,
      "outputs": []
    },
    {
      "cell_type": "code",
      "metadata": {
        "id": "_mcTSpxt_8_m"
      },
      "source": [
        "loan_int_df.isnull().sum()"
      ],
      "execution_count": null,
      "outputs": []
    },
    {
      "cell_type": "code",
      "metadata": {
        "id": "_2LZDeLbm4Lv"
      },
      "source": [
        "loan_int_df.head()"
      ],
      "execution_count": null,
      "outputs": []
    },
    {
      "cell_type": "code",
      "metadata": {
        "id": "MCHxzQjjx8H6",
        "colab": {
          "base_uri": "https://localhost:8080/",
          "height": 690
        },
        "outputId": "c0ad7d9e-82ee-4c59-a25a-9fa901c31b29"
      },
      "source": [
        "loan_int_df['fico_score'].value_counts().sort_index()"
      ],
      "execution_count": null,
      "outputs": [
        {
          "output_type": "execute_result",
          "data": {
            "text/plain": [
              "500     3585\n",
              "510     8223\n",
              "520     9792\n",
              "530    10984\n",
              "540    12333\n",
              "550    12817\n",
              "560    12659\n",
              "570    12380\n",
              "580    11723\n",
              "590    10902\n",
              "600    10509\n",
              "610    10775\n",
              "620    11093\n",
              "630    11947\n",
              "640    13946\n",
              "650    17249\n",
              "660    25423\n",
              "670    33494\n",
              "680    37968\n",
              "690    40444\n",
              "700    40425\n",
              "710    39677\n",
              "720    37891\n",
              "730    33519\n",
              "740    27707\n",
              "750    23225\n",
              "760    19593\n",
              "770    17280\n",
              "780    15495\n",
              "790    12844\n",
              "800    10284\n",
              "810     7646\n",
              "820     4769\n",
              "830     2384\n",
              "840      694\n",
              "850      124\n",
              "Name: fico_score, dtype: int64"
            ]
          },
          "metadata": {
            "tags": []
          },
          "execution_count": 30
        }
      ]
    },
    {
      "cell_type": "code",
      "metadata": {
        "id": "EtcQ6_pH4Pmi"
      },
      "source": [
        "fico_df=loan_int_df['fico_score'].value_counts().sort_index()"
      ],
      "execution_count": null,
      "outputs": []
    },
    {
      "cell_type": "code",
      "metadata": {
        "id": "n2hx1yVy4PjW",
        "colab": {
          "base_uri": "https://localhost:8080/",
          "height": 126
        },
        "outputId": "a4296990-f1b6-4ae8-dd5e-eefddc215f41"
      },
      "source": [
        "fico_df.head()"
      ],
      "execution_count": null,
      "outputs": [
        {
          "output_type": "execute_result",
          "data": {
            "text/plain": [
              "500     3585\n",
              "510     8223\n",
              "520     9792\n",
              "530    10984\n",
              "540    12333\n",
              "Name: fico_score, dtype: int64"
            ]
          },
          "metadata": {
            "tags": []
          },
          "execution_count": 32
        }
      ]
    },
    {
      "cell_type": "code",
      "metadata": {
        "id": "9LDolnV74PgG",
        "colab": {
          "base_uri": "https://localhost:8080/",
          "height": 690
        },
        "outputId": "6d8efd67-6323-4d59-cec9-b1323f7a4529"
      },
      "source": [
        "loan_int_df[loan_int_df['loan_status']=='Default']['fico_score'].value_counts().sort_index()"
      ],
      "execution_count": null,
      "outputs": [
        {
          "output_type": "execute_result",
          "data": {
            "text/plain": [
              "500     3183\n",
              "510     7191\n",
              "520     8370\n",
              "530     9254\n",
              "540    10127\n",
              "550    10164\n",
              "560     9703\n",
              "570     9060\n",
              "580     8004\n",
              "590     6852\n",
              "600     5881\n",
              "610     5195\n",
              "620     4468\n",
              "630     3708\n",
              "640     2898\n",
              "650     2310\n",
              "660     4091\n",
              "670     5232\n",
              "680     3918\n",
              "690     2875\n",
              "700     2027\n",
              "710     1515\n",
              "720     1024\n",
              "730      613\n",
              "740      447\n",
              "750      298\n",
              "760      230\n",
              "770      167\n",
              "780      136\n",
              "790       92\n",
              "800       72\n",
              "810       52\n",
              "820       28\n",
              "830       14\n",
              "840        6\n",
              "850        3\n",
              "Name: fico_score, dtype: int64"
            ]
          },
          "metadata": {
            "tags": []
          },
          "execution_count": 33
        }
      ]
    },
    {
      "cell_type": "code",
      "metadata": {
        "id": "WnndEkP-4PdD",
        "colab": {
          "base_uri": "https://localhost:8080/",
          "height": 1000
        },
        "outputId": "bd927647-b864-4485-e146-7c8a6087c2f8"
      },
      "source": [
        "loan_int_df[['fico_score','dti_final','loan_amnt','annual_inc']].groupby('fico_score').agg({'dti_final':'mean', 'loan_amnt':'mean','annual_inc':'median'})"
      ],
      "execution_count": null,
      "outputs": [
        {
          "output_type": "execute_result",
          "data": {
            "text/html": [
              "<div>\n",
              "<style scoped>\n",
              "    .dataframe tbody tr th:only-of-type {\n",
              "        vertical-align: middle;\n",
              "    }\n",
              "\n",
              "    .dataframe tbody tr th {\n",
              "        vertical-align: top;\n",
              "    }\n",
              "\n",
              "    .dataframe thead th {\n",
              "        text-align: right;\n",
              "    }\n",
              "</style>\n",
              "<table border=\"1\" class=\"dataframe\">\n",
              "  <thead>\n",
              "    <tr style=\"text-align: right;\">\n",
              "      <th></th>\n",
              "      <th>dti_final</th>\n",
              "      <th>loan_amnt</th>\n",
              "      <th>annual_inc</th>\n",
              "    </tr>\n",
              "    <tr>\n",
              "      <th>fico_score</th>\n",
              "      <th></th>\n",
              "      <th></th>\n",
              "      <th></th>\n",
              "    </tr>\n",
              "  </thead>\n",
              "  <tbody>\n",
              "    <tr>\n",
              "      <th>500</th>\n",
              "      <td>19.737013</td>\n",
              "      <td>13660.718271</td>\n",
              "      <td>55000.0</td>\n",
              "    </tr>\n",
              "    <tr>\n",
              "      <th>510</th>\n",
              "      <td>19.747810</td>\n",
              "      <td>13889.672261</td>\n",
              "      <td>56000.0</td>\n",
              "    </tr>\n",
              "    <tr>\n",
              "      <th>520</th>\n",
              "      <td>20.085761</td>\n",
              "      <td>14186.139195</td>\n",
              "      <td>58728.0</td>\n",
              "    </tr>\n",
              "    <tr>\n",
              "      <th>530</th>\n",
              "      <td>20.253199</td>\n",
              "      <td>14487.008376</td>\n",
              "      <td>60000.0</td>\n",
              "    </tr>\n",
              "    <tr>\n",
              "      <th>540</th>\n",
              "      <td>20.770446</td>\n",
              "      <td>14756.367064</td>\n",
              "      <td>60000.0</td>\n",
              "    </tr>\n",
              "    <tr>\n",
              "      <th>550</th>\n",
              "      <td>20.788260</td>\n",
              "      <td>14864.664118</td>\n",
              "      <td>60000.0</td>\n",
              "    </tr>\n",
              "    <tr>\n",
              "      <th>560</th>\n",
              "      <td>20.974137</td>\n",
              "      <td>15115.060431</td>\n",
              "      <td>61900.0</td>\n",
              "    </tr>\n",
              "    <tr>\n",
              "      <th>570</th>\n",
              "      <td>20.731022</td>\n",
              "      <td>15058.697496</td>\n",
              "      <td>62000.0</td>\n",
              "    </tr>\n",
              "    <tr>\n",
              "      <th>580</th>\n",
              "      <td>20.742532</td>\n",
              "      <td>15020.675168</td>\n",
              "      <td>62000.0</td>\n",
              "    </tr>\n",
              "    <tr>\n",
              "      <th>590</th>\n",
              "      <td>20.737378</td>\n",
              "      <td>14849.385434</td>\n",
              "      <td>62000.0</td>\n",
              "    </tr>\n",
              "    <tr>\n",
              "      <th>600</th>\n",
              "      <td>20.529509</td>\n",
              "      <td>14597.868494</td>\n",
              "      <td>60600.0</td>\n",
              "    </tr>\n",
              "    <tr>\n",
              "      <th>610</th>\n",
              "      <td>20.395751</td>\n",
              "      <td>14166.510441</td>\n",
              "      <td>60000.0</td>\n",
              "    </tr>\n",
              "    <tr>\n",
              "      <th>620</th>\n",
              "      <td>20.135828</td>\n",
              "      <td>14026.852520</td>\n",
              "      <td>60984.0</td>\n",
              "    </tr>\n",
              "    <tr>\n",
              "      <th>630</th>\n",
              "      <td>19.734053</td>\n",
              "      <td>13837.676823</td>\n",
              "      <td>61500.0</td>\n",
              "    </tr>\n",
              "    <tr>\n",
              "      <th>640</th>\n",
              "      <td>19.446980</td>\n",
              "      <td>13390.993833</td>\n",
              "      <td>62000.0</td>\n",
              "    </tr>\n",
              "    <tr>\n",
              "      <th>650</th>\n",
              "      <td>19.222320</td>\n",
              "      <td>13144.418517</td>\n",
              "      <td>62000.0</td>\n",
              "    </tr>\n",
              "    <tr>\n",
              "      <th>660</th>\n",
              "      <td>19.079494</td>\n",
              "      <td>12994.231601</td>\n",
              "      <td>61402.0</td>\n",
              "    </tr>\n",
              "    <tr>\n",
              "      <th>670</th>\n",
              "      <td>19.090103</td>\n",
              "      <td>13282.261002</td>\n",
              "      <td>62000.0</td>\n",
              "    </tr>\n",
              "    <tr>\n",
              "      <th>680</th>\n",
              "      <td>19.088208</td>\n",
              "      <td>13607.449694</td>\n",
              "      <td>64000.0</td>\n",
              "    </tr>\n",
              "    <tr>\n",
              "      <th>690</th>\n",
              "      <td>18.908134</td>\n",
              "      <td>14041.957398</td>\n",
              "      <td>65000.0</td>\n",
              "    </tr>\n",
              "    <tr>\n",
              "      <th>700</th>\n",
              "      <td>19.027558</td>\n",
              "      <td>14434.507112</td>\n",
              "      <td>65000.0</td>\n",
              "    </tr>\n",
              "    <tr>\n",
              "      <th>710</th>\n",
              "      <td>18.704783</td>\n",
              "      <td>14662.947047</td>\n",
              "      <td>67165.0</td>\n",
              "    </tr>\n",
              "    <tr>\n",
              "      <th>720</th>\n",
              "      <td>18.534565</td>\n",
              "      <td>14937.358476</td>\n",
              "      <td>68000.0</td>\n",
              "    </tr>\n",
              "    <tr>\n",
              "      <th>730</th>\n",
              "      <td>18.315280</td>\n",
              "      <td>14938.486381</td>\n",
              "      <td>68000.0</td>\n",
              "    </tr>\n",
              "    <tr>\n",
              "      <th>740</th>\n",
              "      <td>18.075507</td>\n",
              "      <td>15084.838669</td>\n",
              "      <td>68000.0</td>\n",
              "    </tr>\n",
              "    <tr>\n",
              "      <th>750</th>\n",
              "      <td>17.818053</td>\n",
              "      <td>15285.388590</td>\n",
              "      <td>69400.0</td>\n",
              "    </tr>\n",
              "    <tr>\n",
              "      <th>760</th>\n",
              "      <td>17.653180</td>\n",
              "      <td>15343.858776</td>\n",
              "      <td>68000.0</td>\n",
              "    </tr>\n",
              "    <tr>\n",
              "      <th>770</th>\n",
              "      <td>17.561312</td>\n",
              "      <td>15383.119213</td>\n",
              "      <td>68000.0</td>\n",
              "    </tr>\n",
              "    <tr>\n",
              "      <th>780</th>\n",
              "      <td>17.642742</td>\n",
              "      <td>15650.196838</td>\n",
              "      <td>69000.0</td>\n",
              "    </tr>\n",
              "    <tr>\n",
              "      <th>790</th>\n",
              "      <td>17.470487</td>\n",
              "      <td>15706.571162</td>\n",
              "      <td>70000.0</td>\n",
              "    </tr>\n",
              "    <tr>\n",
              "      <th>800</th>\n",
              "      <td>16.904192</td>\n",
              "      <td>16277.083333</td>\n",
              "      <td>71000.0</td>\n",
              "    </tr>\n",
              "    <tr>\n",
              "      <th>810</th>\n",
              "      <td>16.694508</td>\n",
              "      <td>16897.776615</td>\n",
              "      <td>75000.0</td>\n",
              "    </tr>\n",
              "    <tr>\n",
              "      <th>820</th>\n",
              "      <td>16.143896</td>\n",
              "      <td>17768.583560</td>\n",
              "      <td>80000.0</td>\n",
              "    </tr>\n",
              "    <tr>\n",
              "      <th>830</th>\n",
              "      <td>15.823695</td>\n",
              "      <td>18694.693792</td>\n",
              "      <td>83750.0</td>\n",
              "    </tr>\n",
              "    <tr>\n",
              "      <th>840</th>\n",
              "      <td>15.211110</td>\n",
              "      <td>19062.031700</td>\n",
              "      <td>82000.0</td>\n",
              "    </tr>\n",
              "    <tr>\n",
              "      <th>850</th>\n",
              "      <td>14.676210</td>\n",
              "      <td>20082.459677</td>\n",
              "      <td>75000.0</td>\n",
              "    </tr>\n",
              "  </tbody>\n",
              "</table>\n",
              "</div>"
            ],
            "text/plain": [
              "            dti_final     loan_amnt  annual_inc\n",
              "fico_score                                     \n",
              "500         19.737013  13660.718271     55000.0\n",
              "510         19.747810  13889.672261     56000.0\n",
              "520         20.085761  14186.139195     58728.0\n",
              "530         20.253199  14487.008376     60000.0\n",
              "540         20.770446  14756.367064     60000.0\n",
              "550         20.788260  14864.664118     60000.0\n",
              "560         20.974137  15115.060431     61900.0\n",
              "570         20.731022  15058.697496     62000.0\n",
              "580         20.742532  15020.675168     62000.0\n",
              "590         20.737378  14849.385434     62000.0\n",
              "600         20.529509  14597.868494     60600.0\n",
              "610         20.395751  14166.510441     60000.0\n",
              "620         20.135828  14026.852520     60984.0\n",
              "630         19.734053  13837.676823     61500.0\n",
              "640         19.446980  13390.993833     62000.0\n",
              "650         19.222320  13144.418517     62000.0\n",
              "660         19.079494  12994.231601     61402.0\n",
              "670         19.090103  13282.261002     62000.0\n",
              "680         19.088208  13607.449694     64000.0\n",
              "690         18.908134  14041.957398     65000.0\n",
              "700         19.027558  14434.507112     65000.0\n",
              "710         18.704783  14662.947047     67165.0\n",
              "720         18.534565  14937.358476     68000.0\n",
              "730         18.315280  14938.486381     68000.0\n",
              "740         18.075507  15084.838669     68000.0\n",
              "750         17.818053  15285.388590     69400.0\n",
              "760         17.653180  15343.858776     68000.0\n",
              "770         17.561312  15383.119213     68000.0\n",
              "780         17.642742  15650.196838     69000.0\n",
              "790         17.470487  15706.571162     70000.0\n",
              "800         16.904192  16277.083333     71000.0\n",
              "810         16.694508  16897.776615     75000.0\n",
              "820         16.143896  17768.583560     80000.0\n",
              "830         15.823695  18694.693792     83750.0\n",
              "840         15.211110  19062.031700     82000.0\n",
              "850         14.676210  20082.459677     75000.0"
            ]
          },
          "metadata": {
            "tags": []
          },
          "execution_count": 34
        }
      ]
    },
    {
      "cell_type": "code",
      "metadata": {
        "id": "Uw-iQXcC4PY9",
        "colab": {
          "base_uri": "https://localhost:8080/",
          "height": 1000
        },
        "outputId": "b533d147-91e2-4648-f475-937fe82088da"
      },
      "source": [
        "loan_int_df[['fico_score','annual_inc','int_rate']].groupby('fico_score').mean()"
      ],
      "execution_count": null,
      "outputs": [
        {
          "output_type": "execute_result",
          "data": {
            "text/html": [
              "<div>\n",
              "<style scoped>\n",
              "    .dataframe tbody tr th:only-of-type {\n",
              "        vertical-align: middle;\n",
              "    }\n",
              "\n",
              "    .dataframe tbody tr th {\n",
              "        vertical-align: top;\n",
              "    }\n",
              "\n",
              "    .dataframe thead th {\n",
              "        text-align: right;\n",
              "    }\n",
              "</style>\n",
              "<table border=\"1\" class=\"dataframe\">\n",
              "  <thead>\n",
              "    <tr style=\"text-align: right;\">\n",
              "      <th></th>\n",
              "      <th>annual_inc</th>\n",
              "      <th>int_rate</th>\n",
              "    </tr>\n",
              "    <tr>\n",
              "      <th>fico_score</th>\n",
              "      <th></th>\n",
              "      <th></th>\n",
              "    </tr>\n",
              "  </thead>\n",
              "  <tbody>\n",
              "    <tr>\n",
              "      <th>500</th>\n",
              "      <td>63396.102921</td>\n",
              "      <td>15.352285</td>\n",
              "    </tr>\n",
              "    <tr>\n",
              "      <th>510</th>\n",
              "      <td>65446.522628</td>\n",
              "      <td>15.440212</td>\n",
              "    </tr>\n",
              "    <tr>\n",
              "      <th>520</th>\n",
              "      <td>68261.387077</td>\n",
              "      <td>15.312451</td>\n",
              "    </tr>\n",
              "    <tr>\n",
              "      <th>530</th>\n",
              "      <td>69041.523403</td>\n",
              "      <td>15.449011</td>\n",
              "    </tr>\n",
              "    <tr>\n",
              "      <th>540</th>\n",
              "      <td>69948.952428</td>\n",
              "      <td>15.271022</td>\n",
              "    </tr>\n",
              "    <tr>\n",
              "      <th>550</th>\n",
              "      <td>70157.608170</td>\n",
              "      <td>15.048212</td>\n",
              "    </tr>\n",
              "    <tr>\n",
              "      <th>560</th>\n",
              "      <td>72611.186614</td>\n",
              "      <td>14.937358</td>\n",
              "    </tr>\n",
              "    <tr>\n",
              "      <th>570</th>\n",
              "      <td>72955.585910</td>\n",
              "      <td>14.830960</td>\n",
              "    </tr>\n",
              "    <tr>\n",
              "      <th>580</th>\n",
              "      <td>73070.848848</td>\n",
              "      <td>14.791581</td>\n",
              "    </tr>\n",
              "    <tr>\n",
              "      <th>590</th>\n",
              "      <td>72049.620998</td>\n",
              "      <td>14.712871</td>\n",
              "    </tr>\n",
              "    <tr>\n",
              "      <th>600</th>\n",
              "      <td>73563.516520</td>\n",
              "      <td>14.564453</td>\n",
              "    </tr>\n",
              "    <tr>\n",
              "      <th>610</th>\n",
              "      <td>71227.507960</td>\n",
              "      <td>14.458857</td>\n",
              "    </tr>\n",
              "    <tr>\n",
              "      <th>620</th>\n",
              "      <td>71958.056626</td>\n",
              "      <td>14.388721</td>\n",
              "    </tr>\n",
              "    <tr>\n",
              "      <th>630</th>\n",
              "      <td>72469.195282</td>\n",
              "      <td>14.130942</td>\n",
              "    </tr>\n",
              "    <tr>\n",
              "      <th>640</th>\n",
              "      <td>73233.508451</td>\n",
              "      <td>13.991304</td>\n",
              "    </tr>\n",
              "    <tr>\n",
              "      <th>650</th>\n",
              "      <td>74223.045117</td>\n",
              "      <td>13.750977</td>\n",
              "    </tr>\n",
              "    <tr>\n",
              "      <th>660</th>\n",
              "      <td>72826.953698</td>\n",
              "      <td>13.939106</td>\n",
              "    </tr>\n",
              "    <tr>\n",
              "      <th>670</th>\n",
              "      <td>73685.386871</td>\n",
              "      <td>13.842329</td>\n",
              "    </tr>\n",
              "    <tr>\n",
              "      <th>680</th>\n",
              "      <td>75615.085756</td>\n",
              "      <td>13.362121</td>\n",
              "    </tr>\n",
              "    <tr>\n",
              "      <th>690</th>\n",
              "      <td>77979.878742</td>\n",
              "      <td>12.997377</td>\n",
              "    </tr>\n",
              "    <tr>\n",
              "      <th>700</th>\n",
              "      <td>78835.678745</td>\n",
              "      <td>12.641587</td>\n",
              "    </tr>\n",
              "    <tr>\n",
              "      <th>710</th>\n",
              "      <td>79431.657106</td>\n",
              "      <td>12.196025</td>\n",
              "    </tr>\n",
              "    <tr>\n",
              "      <th>720</th>\n",
              "      <td>80257.225324</td>\n",
              "      <td>11.849898</td>\n",
              "    </tr>\n",
              "    <tr>\n",
              "      <th>730</th>\n",
              "      <td>80929.712285</td>\n",
              "      <td>11.405860</td>\n",
              "    </tr>\n",
              "    <tr>\n",
              "      <th>740</th>\n",
              "      <td>79821.900755</td>\n",
              "      <td>11.070600</td>\n",
              "    </tr>\n",
              "    <tr>\n",
              "      <th>750</th>\n",
              "      <td>81545.862617</td>\n",
              "      <td>10.836394</td>\n",
              "    </tr>\n",
              "    <tr>\n",
              "      <th>760</th>\n",
              "      <td>80241.667229</td>\n",
              "      <td>10.547044</td>\n",
              "    </tr>\n",
              "    <tr>\n",
              "      <th>770</th>\n",
              "      <td>80632.528553</td>\n",
              "      <td>10.173426</td>\n",
              "    </tr>\n",
              "    <tr>\n",
              "      <th>780</th>\n",
              "      <td>80614.714542</td>\n",
              "      <td>9.944391</td>\n",
              "    </tr>\n",
              "    <tr>\n",
              "      <th>790</th>\n",
              "      <td>81104.113451</td>\n",
              "      <td>9.542079</td>\n",
              "    </tr>\n",
              "    <tr>\n",
              "      <th>800</th>\n",
              "      <td>85119.085720</td>\n",
              "      <td>9.179254</td>\n",
              "    </tr>\n",
              "    <tr>\n",
              "      <th>810</th>\n",
              "      <td>88481.140179</td>\n",
              "      <td>8.816126</td>\n",
              "    </tr>\n",
              "    <tr>\n",
              "      <th>820</th>\n",
              "      <td>93441.872267</td>\n",
              "      <td>8.404368</td>\n",
              "    </tr>\n",
              "    <tr>\n",
              "      <th>830</th>\n",
              "      <td>98683.805747</td>\n",
              "      <td>8.000508</td>\n",
              "    </tr>\n",
              "    <tr>\n",
              "      <th>840</th>\n",
              "      <td>93740.673746</td>\n",
              "      <td>7.585562</td>\n",
              "    </tr>\n",
              "    <tr>\n",
              "      <th>850</th>\n",
              "      <td>89507.451613</td>\n",
              "      <td>7.968548</td>\n",
              "    </tr>\n",
              "  </tbody>\n",
              "</table>\n",
              "</div>"
            ],
            "text/plain": [
              "              annual_inc   int_rate\n",
              "fico_score                         \n",
              "500         63396.102921  15.352285\n",
              "510         65446.522628  15.440212\n",
              "520         68261.387077  15.312451\n",
              "530         69041.523403  15.449011\n",
              "540         69948.952428  15.271022\n",
              "550         70157.608170  15.048212\n",
              "560         72611.186614  14.937358\n",
              "570         72955.585910  14.830960\n",
              "580         73070.848848  14.791581\n",
              "590         72049.620998  14.712871\n",
              "600         73563.516520  14.564453\n",
              "610         71227.507960  14.458857\n",
              "620         71958.056626  14.388721\n",
              "630         72469.195282  14.130942\n",
              "640         73233.508451  13.991304\n",
              "650         74223.045117  13.750977\n",
              "660         72826.953698  13.939106\n",
              "670         73685.386871  13.842329\n",
              "680         75615.085756  13.362121\n",
              "690         77979.878742  12.997377\n",
              "700         78835.678745  12.641587\n",
              "710         79431.657106  12.196025\n",
              "720         80257.225324  11.849898\n",
              "730         80929.712285  11.405860\n",
              "740         79821.900755  11.070600\n",
              "750         81545.862617  10.836394\n",
              "760         80241.667229  10.547044\n",
              "770         80632.528553  10.173426\n",
              "780         80614.714542   9.944391\n",
              "790         81104.113451   9.542079\n",
              "800         85119.085720   9.179254\n",
              "810         88481.140179   8.816126\n",
              "820         93441.872267   8.404368\n",
              "830         98683.805747   8.000508\n",
              "840         93740.673746   7.585562\n",
              "850         89507.451613   7.968548"
            ]
          },
          "metadata": {
            "tags": []
          },
          "execution_count": 35
        }
      ]
    },
    {
      "cell_type": "code",
      "metadata": {
        "id": "Bzlq17sLbpCG"
      },
      "source": [
        "fico_df=pd.concat([fico_df,pd.DataFrame(loan_int_df[loan_int_df['loan_status']=='Default']['fico_score'].value_counts().sort_index()),pd.DataFrame(loan_int_df[['fico_score','dti_final','loan_amnt','annual_inc']].groupby('fico_score').agg({'dti_final':'mean', 'loan_amnt':'mean','annual_inc':'median'})),pd.DataFrame(loan_int_df[['fico_score','annual_inc','int_rate']].groupby('fico_score').mean())], ignore_index=True, axis=1)"
      ],
      "execution_count": null,
      "outputs": []
    },
    {
      "cell_type": "code",
      "metadata": {
        "id": "-vAC-xDSbo_J",
        "colab": {
          "base_uri": "https://localhost:8080/",
          "height": 198
        },
        "outputId": "ffedbfb4-8640-4f36-eb9a-6cb3d74825f9"
      },
      "source": [
        "fico_df.head()"
      ],
      "execution_count": null,
      "outputs": [
        {
          "output_type": "execute_result",
          "data": {
            "text/html": [
              "<div>\n",
              "<style scoped>\n",
              "    .dataframe tbody tr th:only-of-type {\n",
              "        vertical-align: middle;\n",
              "    }\n",
              "\n",
              "    .dataframe tbody tr th {\n",
              "        vertical-align: top;\n",
              "    }\n",
              "\n",
              "    .dataframe thead th {\n",
              "        text-align: right;\n",
              "    }\n",
              "</style>\n",
              "<table border=\"1\" class=\"dataframe\">\n",
              "  <thead>\n",
              "    <tr style=\"text-align: right;\">\n",
              "      <th></th>\n",
              "      <th>0</th>\n",
              "      <th>1</th>\n",
              "      <th>2</th>\n",
              "      <th>3</th>\n",
              "      <th>4</th>\n",
              "      <th>5</th>\n",
              "      <th>6</th>\n",
              "    </tr>\n",
              "  </thead>\n",
              "  <tbody>\n",
              "    <tr>\n",
              "      <th>500</th>\n",
              "      <td>3585</td>\n",
              "      <td>3183</td>\n",
              "      <td>19.737013</td>\n",
              "      <td>13660.718271</td>\n",
              "      <td>55000.0</td>\n",
              "      <td>63396.102921</td>\n",
              "      <td>15.352285</td>\n",
              "    </tr>\n",
              "    <tr>\n",
              "      <th>510</th>\n",
              "      <td>8223</td>\n",
              "      <td>7191</td>\n",
              "      <td>19.747810</td>\n",
              "      <td>13889.672261</td>\n",
              "      <td>56000.0</td>\n",
              "      <td>65446.522628</td>\n",
              "      <td>15.440212</td>\n",
              "    </tr>\n",
              "    <tr>\n",
              "      <th>520</th>\n",
              "      <td>9792</td>\n",
              "      <td>8370</td>\n",
              "      <td>20.085761</td>\n",
              "      <td>14186.139195</td>\n",
              "      <td>58728.0</td>\n",
              "      <td>68261.387077</td>\n",
              "      <td>15.312451</td>\n",
              "    </tr>\n",
              "    <tr>\n",
              "      <th>530</th>\n",
              "      <td>10984</td>\n",
              "      <td>9254</td>\n",
              "      <td>20.253199</td>\n",
              "      <td>14487.008376</td>\n",
              "      <td>60000.0</td>\n",
              "      <td>69041.523403</td>\n",
              "      <td>15.449011</td>\n",
              "    </tr>\n",
              "    <tr>\n",
              "      <th>540</th>\n",
              "      <td>12333</td>\n",
              "      <td>10127</td>\n",
              "      <td>20.770446</td>\n",
              "      <td>14756.367064</td>\n",
              "      <td>60000.0</td>\n",
              "      <td>69948.952428</td>\n",
              "      <td>15.271022</td>\n",
              "    </tr>\n",
              "  </tbody>\n",
              "</table>\n",
              "</div>"
            ],
            "text/plain": [
              "         0      1          2             3        4             5          6\n",
              "500   3585   3183  19.737013  13660.718271  55000.0  63396.102921  15.352285\n",
              "510   8223   7191  19.747810  13889.672261  56000.0  65446.522628  15.440212\n",
              "520   9792   8370  20.085761  14186.139195  58728.0  68261.387077  15.312451\n",
              "530  10984   9254  20.253199  14487.008376  60000.0  69041.523403  15.449011\n",
              "540  12333  10127  20.770446  14756.367064  60000.0  69948.952428  15.271022"
            ]
          },
          "metadata": {
            "tags": []
          },
          "execution_count": 37
        }
      ]
    },
    {
      "cell_type": "code",
      "metadata": {
        "id": "dSjuT0BZrxFu"
      },
      "source": [
        "fico_df=fico_df.reset_index()"
      ],
      "execution_count": null,
      "outputs": []
    },
    {
      "cell_type": "code",
      "metadata": {
        "id": "9naqeV9krTxv"
      },
      "source": [
        "fico_df.columns = ['fico_score','loan_total','default_total','dti','avg_loan_amnt','median_annual_inc','avg_annual_inc','int_rate']"
      ],
      "execution_count": null,
      "outputs": []
    },
    {
      "cell_type": "code",
      "metadata": {
        "id": "gKonnt2wrTlx",
        "colab": {
          "base_uri": "https://localhost:8080/",
          "height": 218
        },
        "outputId": "6a099585-d575-4585-a3b1-dc0eddfaa40b"
      },
      "source": [
        "fico_df.head()"
      ],
      "execution_count": null,
      "outputs": [
        {
          "output_type": "execute_result",
          "data": {
            "text/html": [
              "<div>\n",
              "<style scoped>\n",
              "    .dataframe tbody tr th:only-of-type {\n",
              "        vertical-align: middle;\n",
              "    }\n",
              "\n",
              "    .dataframe tbody tr th {\n",
              "        vertical-align: top;\n",
              "    }\n",
              "\n",
              "    .dataframe thead th {\n",
              "        text-align: right;\n",
              "    }\n",
              "</style>\n",
              "<table border=\"1\" class=\"dataframe\">\n",
              "  <thead>\n",
              "    <tr style=\"text-align: right;\">\n",
              "      <th></th>\n",
              "      <th>fico_score</th>\n",
              "      <th>loan_total</th>\n",
              "      <th>default_total</th>\n",
              "      <th>dti</th>\n",
              "      <th>avg_loan_amnt</th>\n",
              "      <th>median_annual_inc</th>\n",
              "      <th>avg_annual_inc</th>\n",
              "      <th>int_rate</th>\n",
              "    </tr>\n",
              "  </thead>\n",
              "  <tbody>\n",
              "    <tr>\n",
              "      <th>0</th>\n",
              "      <td>500</td>\n",
              "      <td>3585</td>\n",
              "      <td>3183</td>\n",
              "      <td>19.737013</td>\n",
              "      <td>13660.718271</td>\n",
              "      <td>55000.0</td>\n",
              "      <td>63396.102921</td>\n",
              "      <td>15.352285</td>\n",
              "    </tr>\n",
              "    <tr>\n",
              "      <th>1</th>\n",
              "      <td>510</td>\n",
              "      <td>8223</td>\n",
              "      <td>7191</td>\n",
              "      <td>19.747810</td>\n",
              "      <td>13889.672261</td>\n",
              "      <td>56000.0</td>\n",
              "      <td>65446.522628</td>\n",
              "      <td>15.440212</td>\n",
              "    </tr>\n",
              "    <tr>\n",
              "      <th>2</th>\n",
              "      <td>520</td>\n",
              "      <td>9792</td>\n",
              "      <td>8370</td>\n",
              "      <td>20.085761</td>\n",
              "      <td>14186.139195</td>\n",
              "      <td>58728.0</td>\n",
              "      <td>68261.387077</td>\n",
              "      <td>15.312451</td>\n",
              "    </tr>\n",
              "    <tr>\n",
              "      <th>3</th>\n",
              "      <td>530</td>\n",
              "      <td>10984</td>\n",
              "      <td>9254</td>\n",
              "      <td>20.253199</td>\n",
              "      <td>14487.008376</td>\n",
              "      <td>60000.0</td>\n",
              "      <td>69041.523403</td>\n",
              "      <td>15.449011</td>\n",
              "    </tr>\n",
              "    <tr>\n",
              "      <th>4</th>\n",
              "      <td>540</td>\n",
              "      <td>12333</td>\n",
              "      <td>10127</td>\n",
              "      <td>20.770446</td>\n",
              "      <td>14756.367064</td>\n",
              "      <td>60000.0</td>\n",
              "      <td>69948.952428</td>\n",
              "      <td>15.271022</td>\n",
              "    </tr>\n",
              "  </tbody>\n",
              "</table>\n",
              "</div>"
            ],
            "text/plain": [
              "   fico_score  loan_total  ...  avg_annual_inc   int_rate\n",
              "0         500        3585  ...    63396.102921  15.352285\n",
              "1         510        8223  ...    65446.522628  15.440212\n",
              "2         520        9792  ...    68261.387077  15.312451\n",
              "3         530       10984  ...    69041.523403  15.449011\n",
              "4         540       12333  ...    69948.952428  15.271022\n",
              "\n",
              "[5 rows x 8 columns]"
            ]
          },
          "metadata": {
            "tags": []
          },
          "execution_count": 40
        }
      ]
    },
    {
      "cell_type": "code",
      "metadata": {
        "id": "foDi8qUrsEe5"
      },
      "source": [
        "fico_df['default_rate']=(fico_df.default_total/fico_df.default_total.sum())*100\n",
        "fico_df['actual_default_rate']=(fico_df.default_total/fico_df.loan_total.sum())*100"
      ],
      "execution_count": null,
      "outputs": []
    },
    {
      "cell_type": "code",
      "metadata": {
        "id": "9VQ88BzmsFDj",
        "colab": {
          "base_uri": "https://localhost:8080/",
          "height": 668
        },
        "outputId": "2ee5ac55-772b-4cc3-f5ed-ee39e6c39860"
      },
      "source": [
        "fico_df.head(20)"
      ],
      "execution_count": null,
      "outputs": [
        {
          "output_type": "execute_result",
          "data": {
            "text/html": [
              "<div>\n",
              "<style scoped>\n",
              "    .dataframe tbody tr th:only-of-type {\n",
              "        vertical-align: middle;\n",
              "    }\n",
              "\n",
              "    .dataframe tbody tr th {\n",
              "        vertical-align: top;\n",
              "    }\n",
              "\n",
              "    .dataframe thead th {\n",
              "        text-align: right;\n",
              "    }\n",
              "</style>\n",
              "<table border=\"1\" class=\"dataframe\">\n",
              "  <thead>\n",
              "    <tr style=\"text-align: right;\">\n",
              "      <th></th>\n",
              "      <th>fico_score</th>\n",
              "      <th>loan_total</th>\n",
              "      <th>default_total</th>\n",
              "      <th>dti</th>\n",
              "      <th>avg_loan_amnt</th>\n",
              "      <th>median_annual_inc</th>\n",
              "      <th>avg_annual_inc</th>\n",
              "      <th>int_rate</th>\n",
              "      <th>default_rate</th>\n",
              "      <th>actual_default_rate</th>\n",
              "    </tr>\n",
              "  </thead>\n",
              "  <tbody>\n",
              "    <tr>\n",
              "      <th>0</th>\n",
              "      <td>500</td>\n",
              "      <td>3585</td>\n",
              "      <td>3183</td>\n",
              "      <td>19.737013</td>\n",
              "      <td>13660.718271</td>\n",
              "      <td>55000.0</td>\n",
              "      <td>63396.102921</td>\n",
              "      <td>15.352285</td>\n",
              "      <td>2.463470</td>\n",
              "      <td>0.520266</td>\n",
              "    </tr>\n",
              "    <tr>\n",
              "      <th>1</th>\n",
              "      <td>510</td>\n",
              "      <td>8223</td>\n",
              "      <td>7191</td>\n",
              "      <td>19.747810</td>\n",
              "      <td>13889.672261</td>\n",
              "      <td>56000.0</td>\n",
              "      <td>65446.522628</td>\n",
              "      <td>15.440212</td>\n",
              "      <td>5.565445</td>\n",
              "      <td>1.175378</td>\n",
              "    </tr>\n",
              "    <tr>\n",
              "      <th>2</th>\n",
              "      <td>520</td>\n",
              "      <td>9792</td>\n",
              "      <td>8370</td>\n",
              "      <td>20.085761</td>\n",
              "      <td>14186.139195</td>\n",
              "      <td>58728.0</td>\n",
              "      <td>68261.387077</td>\n",
              "      <td>15.312451</td>\n",
              "      <td>6.477927</td>\n",
              "      <td>1.368087</td>\n",
              "    </tr>\n",
              "    <tr>\n",
              "      <th>3</th>\n",
              "      <td>530</td>\n",
              "      <td>10984</td>\n",
              "      <td>9254</td>\n",
              "      <td>20.253199</td>\n",
              "      <td>14487.008376</td>\n",
              "      <td>60000.0</td>\n",
              "      <td>69041.523403</td>\n",
              "      <td>15.449011</td>\n",
              "      <td>7.162095</td>\n",
              "      <td>1.512578</td>\n",
              "    </tr>\n",
              "    <tr>\n",
              "      <th>4</th>\n",
              "      <td>540</td>\n",
              "      <td>12333</td>\n",
              "      <td>10127</td>\n",
              "      <td>20.770446</td>\n",
              "      <td>14756.367064</td>\n",
              "      <td>60000.0</td>\n",
              "      <td>69948.952428</td>\n",
              "      <td>15.271022</td>\n",
              "      <td>7.837750</td>\n",
              "      <td>1.655271</td>\n",
              "    </tr>\n",
              "    <tr>\n",
              "      <th>5</th>\n",
              "      <td>550</td>\n",
              "      <td>12817</td>\n",
              "      <td>10164</td>\n",
              "      <td>20.788260</td>\n",
              "      <td>14864.664118</td>\n",
              "      <td>60000.0</td>\n",
              "      <td>70157.608170</td>\n",
              "      <td>15.048212</td>\n",
              "      <td>7.866386</td>\n",
              "      <td>1.661319</td>\n",
              "    </tr>\n",
              "    <tr>\n",
              "      <th>6</th>\n",
              "      <td>560</td>\n",
              "      <td>12659</td>\n",
              "      <td>9703</td>\n",
              "      <td>20.974137</td>\n",
              "      <td>15115.060431</td>\n",
              "      <td>61900.0</td>\n",
              "      <td>72611.186614</td>\n",
              "      <td>14.937358</td>\n",
              "      <td>7.509597</td>\n",
              "      <td>1.585968</td>\n",
              "    </tr>\n",
              "    <tr>\n",
              "      <th>7</th>\n",
              "      <td>570</td>\n",
              "      <td>12380</td>\n",
              "      <td>9060</td>\n",
              "      <td>20.731022</td>\n",
              "      <td>15058.697496</td>\n",
              "      <td>62000.0</td>\n",
              "      <td>72955.585910</td>\n",
              "      <td>14.830960</td>\n",
              "      <td>7.011950</td>\n",
              "      <td>1.480869</td>\n",
              "    </tr>\n",
              "    <tr>\n",
              "      <th>8</th>\n",
              "      <td>580</td>\n",
              "      <td>11723</td>\n",
              "      <td>8004</td>\n",
              "      <td>20.742532</td>\n",
              "      <td>15020.675168</td>\n",
              "      <td>62000.0</td>\n",
              "      <td>73070.848848</td>\n",
              "      <td>14.791581</td>\n",
              "      <td>6.194663</td>\n",
              "      <td>1.308264</td>\n",
              "    </tr>\n",
              "    <tr>\n",
              "      <th>9</th>\n",
              "      <td>590</td>\n",
              "      <td>10902</td>\n",
              "      <td>6852</td>\n",
              "      <td>20.737378</td>\n",
              "      <td>14849.385434</td>\n",
              "      <td>62000.0</td>\n",
              "      <td>72049.620998</td>\n",
              "      <td>14.712871</td>\n",
              "      <td>5.303077</td>\n",
              "      <td>1.119968</td>\n",
              "    </tr>\n",
              "    <tr>\n",
              "      <th>10</th>\n",
              "      <td>600</td>\n",
              "      <td>10509</td>\n",
              "      <td>5881</td>\n",
              "      <td>20.529509</td>\n",
              "      <td>14597.868494</td>\n",
              "      <td>60600.0</td>\n",
              "      <td>73563.516520</td>\n",
              "      <td>14.564453</td>\n",
              "      <td>4.551576</td>\n",
              "      <td>0.961257</td>\n",
              "    </tr>\n",
              "    <tr>\n",
              "      <th>11</th>\n",
              "      <td>610</td>\n",
              "      <td>10775</td>\n",
              "      <td>5195</td>\n",
              "      <td>20.395751</td>\n",
              "      <td>14166.510441</td>\n",
              "      <td>60000.0</td>\n",
              "      <td>71227.507960</td>\n",
              "      <td>14.458857</td>\n",
              "      <td>4.020649</td>\n",
              "      <td>0.849130</td>\n",
              "    </tr>\n",
              "    <tr>\n",
              "      <th>12</th>\n",
              "      <td>620</td>\n",
              "      <td>11093</td>\n",
              "      <td>4468</td>\n",
              "      <td>20.135828</td>\n",
              "      <td>14026.852520</td>\n",
              "      <td>60984.0</td>\n",
              "      <td>71958.056626</td>\n",
              "      <td>14.388721</td>\n",
              "      <td>3.457990</td>\n",
              "      <td>0.730300</td>\n",
              "    </tr>\n",
              "    <tr>\n",
              "      <th>13</th>\n",
              "      <td>630</td>\n",
              "      <td>11947</td>\n",
              "      <td>3708</td>\n",
              "      <td>19.734053</td>\n",
              "      <td>13837.676823</td>\n",
              "      <td>61500.0</td>\n",
              "      <td>72469.195282</td>\n",
              "      <td>14.130942</td>\n",
              "      <td>2.869791</td>\n",
              "      <td>0.606077</td>\n",
              "    </tr>\n",
              "    <tr>\n",
              "      <th>14</th>\n",
              "      <td>640</td>\n",
              "      <td>13946</td>\n",
              "      <td>2898</td>\n",
              "      <td>19.446980</td>\n",
              "      <td>13390.993833</td>\n",
              "      <td>62000.0</td>\n",
              "      <td>73233.508451</td>\n",
              "      <td>13.991304</td>\n",
              "      <td>2.242895</td>\n",
              "      <td>0.473682</td>\n",
              "    </tr>\n",
              "    <tr>\n",
              "      <th>15</th>\n",
              "      <td>650</td>\n",
              "      <td>17249</td>\n",
              "      <td>2310</td>\n",
              "      <td>19.222320</td>\n",
              "      <td>13144.418517</td>\n",
              "      <td>62000.0</td>\n",
              "      <td>74223.045117</td>\n",
              "      <td>13.750977</td>\n",
              "      <td>1.787815</td>\n",
              "      <td>0.377573</td>\n",
              "    </tr>\n",
              "    <tr>\n",
              "      <th>16</th>\n",
              "      <td>660</td>\n",
              "      <td>25423</td>\n",
              "      <td>4091</td>\n",
              "      <td>19.079494</td>\n",
              "      <td>12994.231601</td>\n",
              "      <td>61402.0</td>\n",
              "      <td>72826.953698</td>\n",
              "      <td>13.939106</td>\n",
              "      <td>3.166213</td>\n",
              "      <td>0.668679</td>\n",
              "    </tr>\n",
              "    <tr>\n",
              "      <th>17</th>\n",
              "      <td>670</td>\n",
              "      <td>33494</td>\n",
              "      <td>5232</td>\n",
              "      <td>19.090103</td>\n",
              "      <td>13282.261002</td>\n",
              "      <td>62000.0</td>\n",
              "      <td>73685.386871</td>\n",
              "      <td>13.842329</td>\n",
              "      <td>4.049285</td>\n",
              "      <td>0.855177</td>\n",
              "    </tr>\n",
              "    <tr>\n",
              "      <th>18</th>\n",
              "      <td>680</td>\n",
              "      <td>37968</td>\n",
              "      <td>3918</td>\n",
              "      <td>19.088208</td>\n",
              "      <td>13607.449694</td>\n",
              "      <td>64000.0</td>\n",
              "      <td>75615.085756</td>\n",
              "      <td>13.362121</td>\n",
              "      <td>3.032320</td>\n",
              "      <td>0.640402</td>\n",
              "    </tr>\n",
              "    <tr>\n",
              "      <th>19</th>\n",
              "      <td>690</td>\n",
              "      <td>40444</td>\n",
              "      <td>2875</td>\n",
              "      <td>18.908134</td>\n",
              "      <td>14041.957398</td>\n",
              "      <td>65000.0</td>\n",
              "      <td>77979.878742</td>\n",
              "      <td>12.997377</td>\n",
              "      <td>2.225094</td>\n",
              "      <td>0.469923</td>\n",
              "    </tr>\n",
              "  </tbody>\n",
              "</table>\n",
              "</div>"
            ],
            "text/plain": [
              "    fico_score  loan_total  ...  default_rate  actual_default_rate\n",
              "0          500        3585  ...      2.463470             0.520266\n",
              "1          510        8223  ...      5.565445             1.175378\n",
              "2          520        9792  ...      6.477927             1.368087\n",
              "3          530       10984  ...      7.162095             1.512578\n",
              "4          540       12333  ...      7.837750             1.655271\n",
              "5          550       12817  ...      7.866386             1.661319\n",
              "6          560       12659  ...      7.509597             1.585968\n",
              "7          570       12380  ...      7.011950             1.480869\n",
              "8          580       11723  ...      6.194663             1.308264\n",
              "9          590       10902  ...      5.303077             1.119968\n",
              "10         600       10509  ...      4.551576             0.961257\n",
              "11         610       10775  ...      4.020649             0.849130\n",
              "12         620       11093  ...      3.457990             0.730300\n",
              "13         630       11947  ...      2.869791             0.606077\n",
              "14         640       13946  ...      2.242895             0.473682\n",
              "15         650       17249  ...      1.787815             0.377573\n",
              "16         660       25423  ...      3.166213             0.668679\n",
              "17         670       33494  ...      4.049285             0.855177\n",
              "18         680       37968  ...      3.032320             0.640402\n",
              "19         690       40444  ...      2.225094             0.469923\n",
              "\n",
              "[20 rows x 10 columns]"
            ]
          },
          "metadata": {
            "tags": []
          },
          "execution_count": 42
        }
      ]
    },
    {
      "cell_type": "code",
      "metadata": {
        "id": "QnJEG4LpnB5g",
        "colab": {
          "base_uri": "https://localhost:8080/",
          "height": 308
        },
        "outputId": "827c0a63-5717-42d5-eb82-d53004751b32"
      },
      "source": [
        "fico_df.describe()"
      ],
      "execution_count": null,
      "outputs": [
        {
          "output_type": "execute_result",
          "data": {
            "text/html": [
              "<div>\n",
              "<style scoped>\n",
              "    .dataframe tbody tr th:only-of-type {\n",
              "        vertical-align: middle;\n",
              "    }\n",
              "\n",
              "    .dataframe tbody tr th {\n",
              "        vertical-align: top;\n",
              "    }\n",
              "\n",
              "    .dataframe thead th {\n",
              "        text-align: right;\n",
              "    }\n",
              "</style>\n",
              "<table border=\"1\" class=\"dataframe\">\n",
              "  <thead>\n",
              "    <tr style=\"text-align: right;\">\n",
              "      <th></th>\n",
              "      <th>fico_score</th>\n",
              "      <th>loan_total</th>\n",
              "      <th>default_total</th>\n",
              "      <th>dti</th>\n",
              "      <th>avg_loan_amnt</th>\n",
              "      <th>median_annual_inc</th>\n",
              "      <th>avg_annual_inc</th>\n",
              "      <th>int_rate</th>\n",
              "      <th>default_rate</th>\n",
              "      <th>actual_default_rate</th>\n",
              "    </tr>\n",
              "  </thead>\n",
              "  <tbody>\n",
              "    <tr>\n",
              "      <th>count</th>\n",
              "      <td>36.000000</td>\n",
              "      <td>36.000000</td>\n",
              "      <td>36.000000</td>\n",
              "      <td>36.000000</td>\n",
              "      <td>36.000000</td>\n",
              "      <td>36.000000</td>\n",
              "      <td>36.000000</td>\n",
              "      <td>36.000000</td>\n",
              "      <td>36.000000</td>\n",
              "      <td>36.000000</td>\n",
              "    </tr>\n",
              "    <tr>\n",
              "      <th>mean</th>\n",
              "      <td>675.000000</td>\n",
              "      <td>16994.527778</td>\n",
              "      <td>3589.111111</td>\n",
              "      <td>18.790417</td>\n",
              "      <td>15088.569697</td>\n",
              "      <td>65678.583333</td>\n",
              "      <td>77391.960108</td>\n",
              "      <td>12.520384</td>\n",
              "      <td>2.777778</td>\n",
              "      <td>0.586645</td>\n",
              "    </tr>\n",
              "    <tr>\n",
              "      <th>std</th>\n",
              "      <td>105.356538</td>\n",
              "      <td>11917.752515</td>\n",
              "      <td>3512.765608</td>\n",
              "      <td>1.690671</td>\n",
              "      <td>1633.584598</td>\n",
              "      <td>6846.614297</td>\n",
              "      <td>8038.473537</td>\n",
              "      <td>2.560128</td>\n",
              "      <td>2.718690</td>\n",
              "      <td>0.574166</td>\n",
              "    </tr>\n",
              "    <tr>\n",
              "      <th>min</th>\n",
              "      <td>500.000000</td>\n",
              "      <td>124.000000</td>\n",
              "      <td>3.000000</td>\n",
              "      <td>14.676210</td>\n",
              "      <td>12994.231601</td>\n",
              "      <td>55000.000000</td>\n",
              "      <td>63396.102921</td>\n",
              "      <td>7.585562</td>\n",
              "      <td>0.002322</td>\n",
              "      <td>0.000490</td>\n",
              "    </tr>\n",
              "    <tr>\n",
              "      <th>25%</th>\n",
              "      <td>587.500000</td>\n",
              "      <td>10452.750000</td>\n",
              "      <td>214.250000</td>\n",
              "      <td>17.650570</td>\n",
              "      <td>14038.181178</td>\n",
              "      <td>61297.500000</td>\n",
              "      <td>72364.301711</td>\n",
              "      <td>10.453639</td>\n",
              "      <td>0.165818</td>\n",
              "      <td>0.035019</td>\n",
              "    </tr>\n",
              "    <tr>\n",
              "      <th>50%</th>\n",
              "      <td>675.000000</td>\n",
              "      <td>12519.500000</td>\n",
              "      <td>2886.500000</td>\n",
              "      <td>19.083851</td>\n",
              "      <td>14857.024776</td>\n",
              "      <td>63000.000000</td>\n",
              "      <td>74919.065437</td>\n",
              "      <td>13.556549</td>\n",
              "      <td>2.233995</td>\n",
              "      <td>0.471802</td>\n",
              "    </tr>\n",
              "    <tr>\n",
              "      <th>75%</th>\n",
              "      <td>762.500000</td>\n",
              "      <td>23774.500000</td>\n",
              "      <td>6123.750000</td>\n",
              "      <td>20.165171</td>\n",
              "      <td>15353.673885</td>\n",
              "      <td>68250.000000</td>\n",
              "      <td>80706.824486</td>\n",
              "      <td>14.732548</td>\n",
              "      <td>4.739451</td>\n",
              "      <td>1.000935</td>\n",
              "    </tr>\n",
              "    <tr>\n",
              "      <th>max</th>\n",
              "      <td>850.000000</td>\n",
              "      <td>40444.000000</td>\n",
              "      <td>10164.000000</td>\n",
              "      <td>20.974137</td>\n",
              "      <td>20082.459677</td>\n",
              "      <td>83750.000000</td>\n",
              "      <td>98683.805747</td>\n",
              "      <td>15.449011</td>\n",
              "      <td>7.866386</td>\n",
              "      <td>1.661319</td>\n",
              "    </tr>\n",
              "  </tbody>\n",
              "</table>\n",
              "</div>"
            ],
            "text/plain": [
              "       fico_score    loan_total  ...  default_rate  actual_default_rate\n",
              "count   36.000000     36.000000  ...     36.000000            36.000000\n",
              "mean   675.000000  16994.527778  ...      2.777778             0.586645\n",
              "std    105.356538  11917.752515  ...      2.718690             0.574166\n",
              "min    500.000000    124.000000  ...      0.002322             0.000490\n",
              "25%    587.500000  10452.750000  ...      0.165818             0.035019\n",
              "50%    675.000000  12519.500000  ...      2.233995             0.471802\n",
              "75%    762.500000  23774.500000  ...      4.739451             1.000935\n",
              "max    850.000000  40444.000000  ...      7.866386             1.661319\n",
              "\n",
              "[8 rows x 10 columns]"
            ]
          },
          "metadata": {
            "tags": []
          },
          "execution_count": 43
        }
      ]
    },
    {
      "cell_type": "code",
      "metadata": {
        "id": "nQCnwkefEleE"
      },
      "source": [
        "fico_df.to_csv('loan_analysis_summary.csv')"
      ],
      "execution_count": null,
      "outputs": []
    },
    {
      "cell_type": "code",
      "metadata": {
        "id": "hVpwoIfaowLt",
        "colab": {
          "base_uri": "https://localhost:8080/",
          "height": 368
        },
        "outputId": "515102ac-124e-4df6-ab90-b0fb2e61d327"
      },
      "source": [
        "fico_df.corr()"
      ],
      "execution_count": null,
      "outputs": [
        {
          "output_type": "execute_result",
          "data": {
            "text/html": [
              "<div>\n",
              "<style scoped>\n",
              "    .dataframe tbody tr th:only-of-type {\n",
              "        vertical-align: middle;\n",
              "    }\n",
              "\n",
              "    .dataframe tbody tr th {\n",
              "        vertical-align: top;\n",
              "    }\n",
              "\n",
              "    .dataframe thead th {\n",
              "        text-align: right;\n",
              "    }\n",
              "</style>\n",
              "<table border=\"1\" class=\"dataframe\">\n",
              "  <thead>\n",
              "    <tr style=\"text-align: right;\">\n",
              "      <th></th>\n",
              "      <th>fico_score</th>\n",
              "      <th>loan_total</th>\n",
              "      <th>default_total</th>\n",
              "      <th>dti</th>\n",
              "      <th>avg_loan_amnt</th>\n",
              "      <th>median_annual_inc</th>\n",
              "      <th>avg_annual_inc</th>\n",
              "      <th>int_rate</th>\n",
              "      <th>default_rate</th>\n",
              "      <th>actual_default_rate</th>\n",
              "    </tr>\n",
              "  </thead>\n",
              "  <tbody>\n",
              "    <tr>\n",
              "      <th>fico_score</th>\n",
              "      <td>1.000000</td>\n",
              "      <td>0.067153</td>\n",
              "      <td>-0.886782</td>\n",
              "      <td>-0.923870</td>\n",
              "      <td>0.685468</td>\n",
              "      <td>0.906772</td>\n",
              "      <td>0.927058</td>\n",
              "      <td>-0.969029</td>\n",
              "      <td>-0.886782</td>\n",
              "      <td>-0.886782</td>\n",
              "    </tr>\n",
              "    <tr>\n",
              "      <th>loan_total</th>\n",
              "      <td>0.067153</td>\n",
              "      <td>1.000000</td>\n",
              "      <td>-0.146124</td>\n",
              "      <td>0.141039</td>\n",
              "      <td>-0.475837</td>\n",
              "      <td>-0.151144</td>\n",
              "      <td>-0.094418</td>\n",
              "      <td>0.113229</td>\n",
              "      <td>-0.146124</td>\n",
              "      <td>-0.146124</td>\n",
              "    </tr>\n",
              "    <tr>\n",
              "      <th>default_total</th>\n",
              "      <td>-0.886782</td>\n",
              "      <td>-0.146124</td>\n",
              "      <td>1.000000</td>\n",
              "      <td>0.845046</td>\n",
              "      <td>-0.443113</td>\n",
              "      <td>-0.717776</td>\n",
              "      <td>-0.741849</td>\n",
              "      <td>0.850278</td>\n",
              "      <td>1.000000</td>\n",
              "      <td>1.000000</td>\n",
              "    </tr>\n",
              "    <tr>\n",
              "      <th>dti</th>\n",
              "      <td>-0.923870</td>\n",
              "      <td>0.141039</td>\n",
              "      <td>0.845046</td>\n",
              "      <td>1.000000</td>\n",
              "      <td>-0.783764</td>\n",
              "      <td>-0.899118</td>\n",
              "      <td>-0.897630</td>\n",
              "      <td>0.962789</td>\n",
              "      <td>0.845046</td>\n",
              "      <td>0.845046</td>\n",
              "    </tr>\n",
              "    <tr>\n",
              "      <th>avg_loan_amnt</th>\n",
              "      <td>0.685468</td>\n",
              "      <td>-0.475837</td>\n",
              "      <td>-0.443113</td>\n",
              "      <td>-0.783764</td>\n",
              "      <td>1.000000</td>\n",
              "      <td>0.855159</td>\n",
              "      <td>0.832335</td>\n",
              "      <td>-0.803379</td>\n",
              "      <td>-0.443113</td>\n",
              "      <td>-0.443113</td>\n",
              "    </tr>\n",
              "    <tr>\n",
              "      <th>median_annual_inc</th>\n",
              "      <td>0.906772</td>\n",
              "      <td>-0.151144</td>\n",
              "      <td>-0.717776</td>\n",
              "      <td>-0.899118</td>\n",
              "      <td>0.855159</td>\n",
              "      <td>1.000000</td>\n",
              "      <td>0.991677</td>\n",
              "      <td>-0.945029</td>\n",
              "      <td>-0.717776</td>\n",
              "      <td>-0.717776</td>\n",
              "    </tr>\n",
              "    <tr>\n",
              "      <th>avg_annual_inc</th>\n",
              "      <td>0.927058</td>\n",
              "      <td>-0.094418</td>\n",
              "      <td>-0.741849</td>\n",
              "      <td>-0.897630</td>\n",
              "      <td>0.832335</td>\n",
              "      <td>0.991677</td>\n",
              "      <td>1.000000</td>\n",
              "      <td>-0.946145</td>\n",
              "      <td>-0.741849</td>\n",
              "      <td>-0.741849</td>\n",
              "    </tr>\n",
              "    <tr>\n",
              "      <th>int_rate</th>\n",
              "      <td>-0.969029</td>\n",
              "      <td>0.113229</td>\n",
              "      <td>0.850278</td>\n",
              "      <td>0.962789</td>\n",
              "      <td>-0.803379</td>\n",
              "      <td>-0.945029</td>\n",
              "      <td>-0.946145</td>\n",
              "      <td>1.000000</td>\n",
              "      <td>0.850278</td>\n",
              "      <td>0.850278</td>\n",
              "    </tr>\n",
              "    <tr>\n",
              "      <th>default_rate</th>\n",
              "      <td>-0.886782</td>\n",
              "      <td>-0.146124</td>\n",
              "      <td>1.000000</td>\n",
              "      <td>0.845046</td>\n",
              "      <td>-0.443113</td>\n",
              "      <td>-0.717776</td>\n",
              "      <td>-0.741849</td>\n",
              "      <td>0.850278</td>\n",
              "      <td>1.000000</td>\n",
              "      <td>1.000000</td>\n",
              "    </tr>\n",
              "    <tr>\n",
              "      <th>actual_default_rate</th>\n",
              "      <td>-0.886782</td>\n",
              "      <td>-0.146124</td>\n",
              "      <td>1.000000</td>\n",
              "      <td>0.845046</td>\n",
              "      <td>-0.443113</td>\n",
              "      <td>-0.717776</td>\n",
              "      <td>-0.741849</td>\n",
              "      <td>0.850278</td>\n",
              "      <td>1.000000</td>\n",
              "      <td>1.000000</td>\n",
              "    </tr>\n",
              "  </tbody>\n",
              "</table>\n",
              "</div>"
            ],
            "text/plain": [
              "                     fico_score  loan_total  ...  default_rate  actual_default_rate\n",
              "fico_score             1.000000    0.067153  ...     -0.886782            -0.886782\n",
              "loan_total             0.067153    1.000000  ...     -0.146124            -0.146124\n",
              "default_total         -0.886782   -0.146124  ...      1.000000             1.000000\n",
              "dti                   -0.923870    0.141039  ...      0.845046             0.845046\n",
              "avg_loan_amnt          0.685468   -0.475837  ...     -0.443113            -0.443113\n",
              "median_annual_inc      0.906772   -0.151144  ...     -0.717776            -0.717776\n",
              "avg_annual_inc         0.927058   -0.094418  ...     -0.741849            -0.741849\n",
              "int_rate              -0.969029    0.113229  ...      0.850278             0.850278\n",
              "default_rate          -0.886782   -0.146124  ...      1.000000             1.000000\n",
              "actual_default_rate   -0.886782   -0.146124  ...      1.000000             1.000000\n",
              "\n",
              "[10 rows x 10 columns]"
            ]
          },
          "metadata": {
            "tags": []
          },
          "execution_count": 44
        }
      ]
    },
    {
      "cell_type": "code",
      "metadata": {
        "id": "8KU_OG0PnBCF"
      },
      "source": [
        ""
      ],
      "execution_count": null,
      "outputs": []
    }
  ]
}
